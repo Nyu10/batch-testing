{
 "metadata": {
  "language_info": {
   "codemirror_mode": {
    "name": "ipython",
    "version": 3
   },
   "file_extension": ".py",
   "mimetype": "text/x-python",
   "name": "python",
   "nbconvert_exporter": "python",
   "pygments_lexer": "ipython3",
   "version": "3.8.5"
  },
  "orig_nbformat": 2,
  "kernelspec": {
   "name": "python3",
   "display_name": "Python 3",
   "language": "python"
  }
 },
 "nbformat": 4,
 "nbformat_minor": 2,
 "cells": [
  {
   "source": [
    "# Batch Testing Tutorial\n",
    "\n",
    "This tutorial has two roles:\n",
    "\n",
    "1. Be familiar with our code.\n",
    "2. Reproduce the results\n",
    "\n"
   ],
   "cell_type": "markdown",
   "metadata": {}
  },
  {
   "cell_type": "code",
   "execution_count": 1,
   "metadata": {},
   "outputs": [],
   "source": [
    "import numpy as np\n",
    "import pandas as pd\n",
    "from numba import jit\n",
    "import time\n",
    "import numba\n",
    "import fast_btk as fbtk\n",
    "import collections\n",
    "from sklearn.metrics import precision_score, recall_score\n",
    "%load_ext autoreload\n",
    "%autoreload 2"
   ]
  },
  {
   "source": [
    "# Data generation\n",
    "\n",
    "The function `data_gen` can generate a population with a certain size and infection rate."
   ],
   "cell_type": "markdown",
   "metadata": {}
  },
  {
   "cell_type": "code",
   "execution_count": 6,
   "metadata": {},
   "outputs": [
    {
     "output_type": "execute_result",
     "data": {
      "text/plain": [
       "array([[0, 0],\n",
       "       [1, 0],\n",
       "       [2, 0],\n",
       "       [3, 0],\n",
       "       [4, 0],\n",
       "       [5, 0],\n",
       "       [6, 0],\n",
       "       [7, 0],\n",
       "       [8, 1],\n",
       "       [9, 0]])"
      ]
     },
     "metadata": {},
     "execution_count": 6
    }
   ],
   "source": [
    "np.random.seed(0)\n",
    "fbtk.data_gen(size = 10, p = 0.1)"
   ]
  },
  {
   "source": [
    "# Conventional Test\n",
    "\n",
    "`conventional_test` gives the test results to a subject array given the probability of a type II error, the probability of a type I error, the number of repetition, and setting of sequence testing or not.\n"
   ],
   "cell_type": "markdown",
   "metadata": {}
  },
  {
   "cell_type": "code",
   "execution_count": 3,
   "metadata": {},
   "outputs": [
    {
     "output_type": "stream",
     "name": "stderr",
     "text": [
      "/home/hajiang/Desktop/batch_testing/fast_btk.py:10: NumbaWarning: \u001b[1m\n",
      "Compilation is falling back to object mode WITH looplifting enabled because Function \"conventional_test\" failed type inference due to: \u001b[1m\u001b[1m\u001b[1mNo implementation of function Function(<built-in function zeros>) found for signature:\n",
      " \n",
      " >>> zeros(UniTuple(int64 x 2), dtype=Function(<class 'int'>))\n",
      " \n",
      "There are 2 candidate implementations:\n",
      "\u001b[1m      - Of which 2 did not match due to:\n",
      "      Overload of function 'zeros': File: numba/core/typing/npydecl.py: Line 507.\n",
      "        With argument(s): '(UniTuple(int64 x 2), dtype=Function(<class 'int'>))':\u001b[0m\n",
      "\u001b[1m       No match.\u001b[0m\n",
      "\u001b[0m\n",
      "\u001b[0m\u001b[1mDuring: resolving callee type: Function(<built-in function zeros>)\u001b[0m\n",
      "\u001b[0m\u001b[1mDuring: typing of call at /home/hajiang/Desktop/batch_testing/fast_btk.py (40)\n",
      "\u001b[0m\n",
      "\u001b[1m\n",
      "File \"fast_btk.py\", line 40:\u001b[0m\n",
      "\u001b[1mdef conventional_test(subject_array, typeII_error, typeI_error, repeat = 1,\n",
      "    <source elided>\n",
      "        \n",
      "\u001b[1m        test_result = np.zeros(subject_array.shape, dtype = int)\n",
      "\u001b[0m        \u001b[1m^\u001b[0m\u001b[0m\n",
      "\u001b[0m\n",
      "  @jit(parallel = True)\n",
      "/home/hajiang/Desktop/batch_testing/fast_btk.py:10: NumbaWarning: \u001b[1m\n",
      "Compilation is falling back to object mode WITHOUT looplifting enabled because Function \"conventional_test\" failed type inference due to: \u001b[1m\u001b[1mCannot determine Numba type of <class 'numba.core.dispatcher.LiftedLoop'>\u001b[0m\n",
      "\u001b[1m\n",
      "File \"fast_btk.py\", line 38:\u001b[0m\n",
      "\u001b[1mdef conventional_test(subject_array, typeII_error, typeI_error, repeat = 1,\n",
      "    <source elided>\n",
      "    if seq == True:\n",
      "\u001b[1m        consum = 0\n",
      "\u001b[0m        \u001b[1m^\u001b[0m\u001b[0m\n",
      "\u001b[0m\u001b[0m\n",
      "  @jit(parallel = True)\n",
      "/home/hajiang/.local/lib/python3.8/site-packages/numba/core/object_mode_passes.py:151: NumbaWarning: \u001b[1mFunction \"conventional_test\" was compiled in object mode without forceobj=True, but has lifted loops.\n",
      "\u001b[1m\n",
      "File \"fast_btk.py\", line 37:\u001b[0m\n",
      "\u001b[1mdef conventional_test(subject_array, typeII_error, typeI_error, repeat = 1,\n",
      "    <source elided>\n",
      "    # Sequential Testing\n",
      "\u001b[1m    if seq == True:\n",
      "\u001b[0m    \u001b[1m^\u001b[0m\u001b[0m\n",
      "\u001b[0m\n",
      "  warnings.warn(errors.NumbaWarning(warn_msg,\n",
      "/home/hajiang/.local/lib/python3.8/site-packages/numba/core/object_mode_passes.py:161: NumbaDeprecationWarning: \u001b[1m\n",
      "Fall-back from the nopython compilation path to the object mode compilation path has been detected, this is deprecated behaviour.\n",
      "\n",
      "For more information visit https://numba.pydata.org/numba-doc/latest/reference/deprecation.html#deprecation-of-object-mode-fall-back-behaviour-when-using-jit\n",
      "\u001b[1m\n",
      "File \"fast_btk.py\", line 37:\u001b[0m\n",
      "\u001b[1mdef conventional_test(subject_array, typeII_error, typeI_error, repeat = 1,\n",
      "    <source elided>\n",
      "    # Sequential Testing\n",
      "\u001b[1m    if seq == True:\n",
      "\u001b[0m    \u001b[1m^\u001b[0m\u001b[0m\n",
      "\u001b[0m\n",
      "  warnings.warn(errors.NumbaDeprecationWarning(msg,\n",
      "/home/hajiang/Desktop/batch_testing/fast_btk.py:10: NumbaWarning: \u001b[1m\n",
      "Compilation is falling back to object mode WITHOUT looplifting enabled because Function \"conventional_test\" failed type inference due to: \u001b[1m\u001b[1m\u001b[1mNo implementation of function Function(<built-in function zeros>) found for signature:\n",
      " \n",
      " >>> zeros(UniTuple(int64 x 2), dtype=Function(<class 'int'>))\n",
      " \n",
      "There are 2 candidate implementations:\n",
      "\u001b[1m      - Of which 2 did not match due to:\n",
      "      Overload of function 'zeros': File: numba/core/typing/npydecl.py: Line 507.\n",
      "        With argument(s): '(UniTuple(int64 x 2), dtype=Function(<class 'int'>))':\u001b[0m\n",
      "\u001b[1m       No match.\u001b[0m\n",
      "\u001b[0m\n",
      "\u001b[0m\u001b[1mDuring: resolving callee type: Function(<built-in function zeros>)\u001b[0m\n",
      "\u001b[0m\u001b[1mDuring: typing of call at /home/hajiang/Desktop/batch_testing/fast_btk.py (40)\n",
      "\u001b[0m\n",
      "\u001b[1m\n",
      "File \"fast_btk.py\", line 40:\u001b[0m\n",
      "\u001b[1mdef conventional_test(subject_array, typeII_error, typeI_error, repeat = 1,\n",
      "    <source elided>\n",
      "        \n",
      "\u001b[1m        test_result = np.zeros(subject_array.shape, dtype = int)\n",
      "\u001b[0m        \u001b[1m^\u001b[0m\u001b[0m\n",
      "\u001b[0m\n",
      "  @jit(parallel = True)\n",
      "/home/hajiang/.local/lib/python3.8/site-packages/numba/core/object_mode_passes.py:151: NumbaWarning: \u001b[1mFunction \"conventional_test\" was compiled in object mode without forceobj=True.\n",
      "\u001b[1m\n",
      "File \"fast_btk.py\", line 38:\u001b[0m\n",
      "\u001b[1mdef conventional_test(subject_array, typeII_error, typeI_error, repeat = 1,\n",
      "    <source elided>\n",
      "    if seq == True:\n",
      "\u001b[1m        consum = 0\n",
      "\u001b[0m        \u001b[1m^\u001b[0m\u001b[0m\n",
      "\u001b[0m\n",
      "  warnings.warn(errors.NumbaWarning(warn_msg,\n",
      "/home/hajiang/.local/lib/python3.8/site-packages/numba/core/object_mode_passes.py:161: NumbaDeprecationWarning: \u001b[1m\n",
      "Fall-back from the nopython compilation path to the object mode compilation path has been detected, this is deprecated behaviour.\n",
      "\n",
      "For more information visit https://numba.pydata.org/numba-doc/latest/reference/deprecation.html#deprecation-of-object-mode-fall-back-behaviour-when-using-jit\n",
      "\u001b[1m\n",
      "File \"fast_btk.py\", line 38:\u001b[0m\n",
      "\u001b[1mdef conventional_test(subject_array, typeII_error, typeI_error, repeat = 1,\n",
      "    <source elided>\n",
      "    if seq == True:\n",
      "\u001b[1m        consum = 0\n",
      "\u001b[0m        \u001b[1m^\u001b[0m\u001b[0m\n",
      "\u001b[0m\n",
      "  warnings.warn(errors.NumbaDeprecationWarning(msg,\n",
      "accuracy: 0.9\n",
      "test consumption 10\n"
     ]
    }
   ],
   "source": [
    "subject_array = fbtk.data_gen(10, 0.1)\n",
    "test_result, consum = fbtk.conventional_test(subject_array, typeII_error = 0.15,\n",
    "typeI_error=0.01, repeat= 1)\n",
    "print(f'accuracy: {np.mean(subject_array[:,1] == test_result[:,1])}')\n",
    "print(f'test consumption {consum}')"
   ]
  },
  {
   "source": [
    "## Multi-step Batch Testing\n",
    "\n",
    "`seq_test` gives the test results to a subject array, the total number of \n",
    "test-kit consumption, and the number of individual tests given the subject array,\n",
    "stopping rule, batch size, probability of a type II error, probability of a Type I error, and the number of repetition, probability threshold, and \n",
    "setting of sequence testing or not.\n",
    "\n",
    "The following code will generate a population with size 100000 and the infection rate of 0.01. The setting of this multi-step batch testing is up to 3 sequential individual tests for 3 batch positives."
   ],
   "cell_type": "markdown",
   "metadata": {}
  },
  {
   "cell_type": "code",
   "execution_count": 4,
   "metadata": {},
   "outputs": [
    {
     "output_type": "stream",
     "name": "stdout",
     "text": [
      "accuracy: 0.99891\ntest consumption 28203.0\n"
     ]
    }
   ],
   "source": [
    "subject_array = fbtk.data_gen(100000, 0.01)\n",
    "batch_size = fbtk.one_batch_test_int_solver(0.01, 0.15, 0.01)\n",
    "test_result, consum, ind_consum = fbtk.seq_test(subject_array, batch_size = batch_size,stop_rule = 3,p = 0.01, typeII_error = 0.15, typeI_error=0.01, repeat= 3, seq = True)\n",
    "print(f'accuracy: {np.mean(subject_array[:,1] == test_result[:,1])}')\n",
    "print(f'test consumption {consum}')"
   ]
  },
  {
   "source": [
    "# Reproduce Results\n",
    "\n",
    "The following code is to produce results on Table 7 and Table 8. We will go through table 7_(a) and show the output. "
   ],
   "cell_type": "markdown",
   "metadata": {}
  },
  {
   "cell_type": "code",
   "execution_count": 6,
   "metadata": {},
   "outputs": [
    {
     "output_type": "stream",
     "name": "stdout",
     "text": [
      "running time: 153.8344419002533 s\n"
     ]
    }
   ],
   "source": [
    "# table 7 (a)\n",
    "time_start = time.time()\n",
    "np.random.seed(0)\n",
    "df = pd.DataFrame([], columns = ['Infection_rate', 'Acc', 'Acc_SD', 'Sens', 'Sens_SD', 'Spec','Spec_SD','PPV', 'PPV_SD',\n",
    "'NPV', 'NPV_SD', 'Test_consum', 'Test_consum_SD'])\n",
    "for prob in [0.001, 0.01, 0.03, 0.05, 0.10]:\n",
    "    temp_data = [fbtk.data_gen(100000, prob) for _ in range(100)]\n",
    "    length = len(temp_data)\n",
    "    acc = np.zeros(length)\n",
    "    sens = np.zeros(length)\n",
    "    spec = np.zeros(length)\n",
    "    ppv = np.zeros(length)\n",
    "    npv = np.zeros(length)\n",
    "    test_consum = np.zeros(length)\n",
    "    for i in range(length):\n",
    "        pred, consum = fbtk.conventional_test(temp_data[i], typeII_error= 0.15, typeI_error=0.01)\n",
    "        acc[i] = np.mean(pred[:,1] == temp_data[i][:, 1])\n",
    "        sens[i] = recall_score(temp_data[i][:, 1], pred[:, 1])\n",
    "        spec[i] = fbtk.specificity_score(temp_data[i][:, 1], pred[:, 1])\n",
    "        ppv[i] = precision_score(temp_data[i][:, 1], pred[:, 1])\n",
    "        npv[i] = fbtk.npv_score(temp_data[i][:, 1], pred[:, 1])\n",
    "        test_consum[i] = consum\n",
    "    result = {\n",
    "        'acc': acc,\n",
    "        'sens': sens,\n",
    "        'spec': spec,\n",
    "        'PPV': ppv,\n",
    "        'NPV': npv,\n",
    "        'test_consum': test_consum\n",
    "    \n",
    "    }\n",
    "    result = pd.DataFrame(result)\n",
    "    result_mean = result.mean()\n",
    "    result_std = result.std()\n",
    "    temp_df = [prob, result_mean['acc'], result_std['acc'], result_mean['sens'], result_std['sens'],\n",
    "    result_mean['spec'], result_std['spec'], result_mean['PPV'], result_std['PPV'], result_mean['NPV'],\n",
    "    result_std['NPV'], result_mean['test_consum'], result_std['test_consum']]\n",
    "    temp_df = pd.DataFrame(temp_df)\n",
    "    temp_df = temp_df.T\n",
    "    temp_df.columns = df.columns\n",
    "    df = pd.concat([df, temp_df])\n",
    "\n",
    "\n",
    "  \n",
    "time_end = time.time()\n",
    "print('running time:', time_end - time_start, 's')"
   ]
  },
  {
   "cell_type": "code",
   "execution_count": 8,
   "metadata": {},
   "outputs": [
    {
     "output_type": "execute_result",
     "data": {
      "text/plain": [
       "   Infection_rate       Acc    Acc_SD      Sens   Sens_SD      Spec   Spec_SD  \\\n",
       "0           0.001  0.989861  0.000327  0.852501  0.035635  0.990001  0.000326   \n",
       "0           0.010  0.988598  0.000316  0.849064  0.010490  0.990009  0.000300   \n",
       "0           0.030  0.985887  0.000393  0.849974  0.006703  0.990073  0.000319   \n",
       "0           0.050  0.983061  0.000396  0.850930  0.005089  0.990012  0.000326   \n",
       "0           0.100  0.975959  0.000442  0.849704  0.003048  0.989990  0.000335   \n",
       "\n",
       "        PPV    PPV_SD       NPV    NPV_SD  Test_consum  Test_consum_SD  \n",
       "0  0.079851  0.008803  0.999849  0.000039     100000.0             0.0  \n",
       "0  0.462084  0.010728  0.998461  0.000114     100000.0             0.0  \n",
       "0  0.725062  0.007459  0.995355  0.000219     100000.0             0.0  \n",
       "0  0.817558  0.005445  0.992142  0.000300     100000.0             0.0  \n",
       "0  0.904148  0.003147  0.983409  0.000367     100000.0             0.0  "
      ],
      "text/html": "<div>\n<style scoped>\n    .dataframe tbody tr th:only-of-type {\n        vertical-align: middle;\n    }\n\n    .dataframe tbody tr th {\n        vertical-align: top;\n    }\n\n    .dataframe thead th {\n        text-align: right;\n    }\n</style>\n<table border=\"1\" class=\"dataframe\">\n  <thead>\n    <tr style=\"text-align: right;\">\n      <th></th>\n      <th>Infection_rate</th>\n      <th>Acc</th>\n      <th>Acc_SD</th>\n      <th>Sens</th>\n      <th>Sens_SD</th>\n      <th>Spec</th>\n      <th>Spec_SD</th>\n      <th>PPV</th>\n      <th>PPV_SD</th>\n      <th>NPV</th>\n      <th>NPV_SD</th>\n      <th>Test_consum</th>\n      <th>Test_consum_SD</th>\n    </tr>\n  </thead>\n  <tbody>\n    <tr>\n      <th>0</th>\n      <td>0.001</td>\n      <td>0.989861</td>\n      <td>0.000327</td>\n      <td>0.852501</td>\n      <td>0.035635</td>\n      <td>0.990001</td>\n      <td>0.000326</td>\n      <td>0.079851</td>\n      <td>0.008803</td>\n      <td>0.999849</td>\n      <td>0.000039</td>\n      <td>100000.0</td>\n      <td>0.0</td>\n    </tr>\n    <tr>\n      <th>0</th>\n      <td>0.010</td>\n      <td>0.988598</td>\n      <td>0.000316</td>\n      <td>0.849064</td>\n      <td>0.010490</td>\n      <td>0.990009</td>\n      <td>0.000300</td>\n      <td>0.462084</td>\n      <td>0.010728</td>\n      <td>0.998461</td>\n      <td>0.000114</td>\n      <td>100000.0</td>\n      <td>0.0</td>\n    </tr>\n    <tr>\n      <th>0</th>\n      <td>0.030</td>\n      <td>0.985887</td>\n      <td>0.000393</td>\n      <td>0.849974</td>\n      <td>0.006703</td>\n      <td>0.990073</td>\n      <td>0.000319</td>\n      <td>0.725062</td>\n      <td>0.007459</td>\n      <td>0.995355</td>\n      <td>0.000219</td>\n      <td>100000.0</td>\n      <td>0.0</td>\n    </tr>\n    <tr>\n      <th>0</th>\n      <td>0.050</td>\n      <td>0.983061</td>\n      <td>0.000396</td>\n      <td>0.850930</td>\n      <td>0.005089</td>\n      <td>0.990012</td>\n      <td>0.000326</td>\n      <td>0.817558</td>\n      <td>0.005445</td>\n      <td>0.992142</td>\n      <td>0.000300</td>\n      <td>100000.0</td>\n      <td>0.0</td>\n    </tr>\n    <tr>\n      <th>0</th>\n      <td>0.100</td>\n      <td>0.975959</td>\n      <td>0.000442</td>\n      <td>0.849704</td>\n      <td>0.003048</td>\n      <td>0.989990</td>\n      <td>0.000335</td>\n      <td>0.904148</td>\n      <td>0.003147</td>\n      <td>0.983409</td>\n      <td>0.000367</td>\n      <td>100000.0</td>\n      <td>0.0</td>\n    </tr>\n  </tbody>\n</table>\n</div>"
     },
     "metadata": {},
     "execution_count": 8
    }
   ],
   "source": [
    "# Show the result\n",
    "df"
   ]
  },
  {
   "source": [
    "For table 7 (b)"
   ],
   "cell_type": "markdown",
   "metadata": {}
  },
  {
   "cell_type": "code",
   "execution_count": 9,
   "metadata": {},
   "outputs": [
    {
     "output_type": "stream",
     "name": "stdout",
     "text": [
      "running time: 117.52977275848389 s\n"
     ]
    }
   ],
   "source": [
    "# table 7 (b)\n",
    "time_start = time.time()\n",
    "np.random.seed(0)\n",
    "df = pd.DataFrame([], columns = ['Infection_rate', 'Sequential_test', 'Stop_rule', 'Repeat', 'Prob_threshold', 'Acc', 'Acc_SD', 'Sens', 'Sens_SD', 'Spec','Spec_SD','PPV', 'PPV_SD',\n",
    "'NPV', 'NPV_SD', 'Test_consum', 'Test_consum_SD', 'Ind_consum', 'Ind_consum_SD', 'Batch_consum','Batch_consum_SD'])\n",
    "for prob in [0.001, 0.01, 0.03, 0.05, 0.10]:\n",
    "    temp_data = [fbtk.data_gen(100000, prob) for _ in range(100)]\n",
    "    for i in [True]:\n",
    "        for j in [1]:\n",
    "            for k in [1]:\n",
    "                \n",
    "                kwargs = {'stop_rule': j, 'p': prob, 'batch_size': 10,\n",
    "                'typeII_error': 0.15, 'typeI_error': 0.01, 'repeat': k,\n",
    "                'prob_threshold': 0.3, 'seq': i}\n",
    "                test_1 = fbtk.test_result(temp_data, fbtk.seq_test, **kwargs)\n",
    "                temp_mean = test_1.mean()\n",
    "                temp_std = test_1.std()\n",
    "                temp = [kwargs['p'], kwargs['seq'], kwargs['stop_rule'], kwargs['repeat'], kwargs['prob_threshold'],temp_mean['acc'], temp_std['acc'], temp_mean['sens'], temp_std['sens'], temp_mean['spec'], temp_std['spec'], temp_mean['PPV'], temp_std['PPV'], temp_mean['NPV'], temp_std['NPV'], temp_mean['test_consum'], temp_std['test_consum'], temp_mean['ind_consum'], temp_std['ind_consum'], temp_mean['batch_consum'], temp_std['batch_consum']]\n",
    "                temp_df = pd.DataFrame(temp)\n",
    "                temp_df = temp_df.T\n",
    "                temp_df.columns = ['Infection_rate', 'Sequential_test', 'Stop_rule', 'Repeat','Prob_threshold', 'Acc', 'Acc_SD', 'Sens', 'Sens_SD', 'Spec','Spec_SD','PPV', 'PPV_SD',\n",
    "    'NPV', 'NPV_SD', 'Test_consum', 'Test_consum_SD', 'Ind_consum', 'Ind_consum_SD', 'Batch_consum','Batch_consum_SD']\n",
    "                df = pd.concat([df, temp_df])\n",
    "            \n",
    "time_end = time.time()\n",
    "print('running time:', time_end - time_start, 's')"
   ]
  },
  {
   "cell_type": "code",
   "execution_count": 10,
   "metadata": {},
   "outputs": [],
   "source": [
    "df.to_csv('table7_b.csv')"
   ]
  },
  {
   "source": [
    "For table 7 (c)"
   ],
   "cell_type": "markdown",
   "metadata": {}
  },
  {
   "cell_type": "code",
   "execution_count": 4,
   "metadata": {
    "tags": []
   },
   "outputs": [
    {
     "output_type": "stream",
     "name": "stdout",
     "text": [
      "running time: 1.3733797073364258 s\n"
     ]
    }
   ],
   "source": [
    "time_start = time.time()\n",
    "np.random.seed(0)\n",
    "df = pd.DataFrame([], columns = ['Infection_rate', 'Sequential_test', 'Stop_rule', 'Repeat', 'Prob_threshold', 'Acc', 'Acc_SD', 'Sens', 'Sens_SD', 'Spec','Spec_SD','PPV', 'PPV_SD',\n",
    "'NPV', 'NPV_SD', 'Test_consum', 'Test_consum_SD', 'Ind_consum', 'Ind_consum_SD', 'Batch_consum','Batch_consum_SD'])\n",
    "for prob in [0.001, 0.01, 0.03, 0.05, 0.10]:\n",
    "    temp_data = [fbtk.data_gen(10000, prob) for _ in range(10)]\n",
    "    for i in [True]:\n",
    "        for j in [1]:\n",
    "            for k in [3]:\n",
    "                batch_size = fbtk.one_batch_test_int_solver(prob, 0.15, 0.01, batch_limit= 32)\n",
    "                kwargs = {'stop_rule': j, 'p': prob, 'batch_size': batch_size,\n",
    "                'typeII_error': 0.15, 'typeI_error': 0.01, 'repeat': k,\n",
    "                'prob_threshold': 0.3, 'seq': i, 'batch_limit': 32}\n",
    "                test_1 = fbtk.test_result(temp_data, fbtk.seq_test, **kwargs)\n",
    "                temp_mean = test_1.mean()\n",
    "                temp_std = test_1.std()\n",
    "                temp = [kwargs['p'], kwargs['seq'], kwargs['stop_rule'], kwargs['repeat'], kwargs['prob_threshold'],temp_mean['acc'], temp_std['acc'], temp_mean['sens'], temp_std['sens'], temp_mean['spec'], temp_std['spec'], temp_mean['PPV'], temp_std['PPV'], temp_mean['NPV'], temp_std['NPV'], temp_mean['test_consum'], temp_std['test_consum'], temp_mean['ind_consum'], temp_std['ind_consum'], temp_mean['batch_consum'], temp_std['batch_consum']]\n",
    "                temp_df = pd.DataFrame(temp)\n",
    "                temp_df = temp_df.T\n",
    "                temp_df.columns = ['Infection_rate', 'Sequential_test', 'Stop_rule', 'Repeat','Prob_threshold', 'Acc', 'Acc_SD', 'Sens', 'Sens_SD', 'Spec','Spec_SD','PPV', 'PPV_SD',\n",
    "    'NPV', 'NPV_SD', 'Test_consum', 'Test_consum_SD', 'Ind_consum', 'Ind_consum_SD', 'Batch_consum','Batch_consum_SD']\n",
    "                df = pd.concat([df, temp_df])\n",
    "            \n",
    "time_end = time.time()\n",
    "print('running time:', time_end - time_start, 's')"
   ]
  },
  {
   "cell_type": "code",
   "execution_count": 12,
   "metadata": {},
   "outputs": [
    {
     "output_type": "stream",
     "name": "stdout",
     "text": [
      "running time: 152.28528094291687 s\n"
     ]
    }
   ],
   "source": [
    "# table 7 d\n",
    "time_start = time.time()\n",
    "np.random.seed(0)\n",
    "df = pd.DataFrame([], columns = ['Infection_rate', 'Sq_Repeat', 'Ind_Repeat', 'Acc', 'Acc_SD', 'Sens', 'Sens_SD', 'Spec','Spec_SD','PPV', 'PPV_SD',\n",
    "'NPV', 'NPV_SD', 'Test_consum', 'Test_consum_SD', 'Ind_consum', 'Ind_consum_SD', 'Batch_consum','Batch_consum_SD'])\n",
    "for prob in [0.001, 0.01, 0.03, 0.05, 0.10]:\n",
    "    temp_data = [fbtk.data_gen(100000, prob) for _ in range(100)]\n",
    "    for i in [3]: # sq_repeat\n",
    "        for j in [3]: # ind_repeat\n",
    "            kwargs = {\n",
    "                'side_length': 12,\n",
    "                'typeII_error': 0.15,\n",
    "                'typeI_error': 0.01,\n",
    "                'sq_repeat': i,\n",
    "                'ind_repeat': j\n",
    "            }\n",
    "            test_1 = fbtk.test_result(temp_data, fbtk.matrix_test, **kwargs)\n",
    "            temp_mean = test_1.mean()\n",
    "            temp_std = test_1.std()\n",
    "            temp = [prob, kwargs['sq_repeat'], kwargs['ind_repeat'], temp_mean['acc'], temp_std['acc'], temp_mean['sens'], temp_std['sens'], temp_mean['spec'], temp_std['spec'], temp_mean['PPV'], temp_std['PPV'], temp_mean['NPV'], temp_std['NPV'], temp_mean['test_consum'], temp_std['test_consum'], temp_mean['ind_consum'], temp_std['ind_consum'], temp_mean['batch_consum'], temp_std['batch_consum']]\n",
    "            temp_df = pd.DataFrame(temp)\n",
    "            temp_df = temp_df.T\n",
    "            temp_df.columns = ['Infection_rate', 'Sq_Repeat', 'Ind_Repeat', 'Acc', 'Acc_SD', 'Sens', 'Sens_SD', 'Spec','Spec_SD','PPV', 'PPV_SD',\n",
    "'NPV', 'NPV_SD', 'Test_consum', 'Test_consum_SD', 'Ind_consum', 'Ind_consum_SD', 'Batch_consum','Batch_consum_SD']\n",
    "            df = pd.concat([df, temp_df])\n",
    "\n",
    "            \n",
    "                \n",
    "               \n",
    "            \n",
    "time_end = time.time()\n",
    "print('running time:', time_end - time_start, 's')"
   ]
  },
  {
   "cell_type": "code",
   "execution_count": 5,
   "metadata": {},
   "outputs": [
    {
     "output_type": "execute_result",
     "data": {
      "text/plain": [
       "  Infection_rate Sequential_test Stop_rule Repeat Prob_threshold      Acc  \\\n",
       "0          0.001            True         1      3            0.3  0.99890   \n",
       "0          0.010            True         1      3            0.3  0.99537   \n",
       "0          0.030            True         1      3            0.3  0.99097   \n",
       "0          0.050            True         1      3            0.3  0.98741   \n",
       "0          0.100            True         1      3            0.3  0.97863   \n",
       "\n",
       "     Acc_SD      Sens   Sens_SD      Spec  ...       PPV    PPV_SD       NPV  \\\n",
       "0  0.000356  0.836949  0.096612  0.999089  ...  0.515986  0.112481  0.999810   \n",
       "0  0.000640  0.848680  0.024739  0.996867  ...  0.738856  0.025972  0.998452   \n",
       "0  0.000617  0.846138  0.015518  0.995473  ...  0.853121  0.011845  0.995217   \n",
       "0  0.001050  0.850537  0.016774  0.994438  ...  0.887168  0.013225  0.992341   \n",
       "0  0.000851  0.849407  0.007765  0.993137  ...  0.932939  0.006359  0.983261   \n",
       "\n",
       "     NPV_SD Test_consum Test_consum_SD Ind_consum Ind_consum_SD Batch_consum  \\\n",
       "0  0.000129      1349.6     223.522408     1036.6    223.522408        313.0   \n",
       "0  0.000171      3956.8     269.785017     3122.8    269.785017        834.0   \n",
       "0  0.000509      6100.0     305.337700     4671.0    305.337700       1429.0   \n",
       "0  0.000852      7695.5     305.011566     6028.5    305.011566       1667.0   \n",
       "0  0.000999      9993.7     245.049224     7493.7    245.049224       2500.0   \n",
       "\n",
       "  Batch_consum_SD  \n",
       "0             0.0  \n",
       "0             0.0  \n",
       "0             0.0  \n",
       "0             0.0  \n",
       "0             0.0  \n",
       "\n",
       "[5 rows x 21 columns]"
      ],
      "text/html": "<div>\n<style scoped>\n    .dataframe tbody tr th:only-of-type {\n        vertical-align: middle;\n    }\n\n    .dataframe tbody tr th {\n        vertical-align: top;\n    }\n\n    .dataframe thead th {\n        text-align: right;\n    }\n</style>\n<table border=\"1\" class=\"dataframe\">\n  <thead>\n    <tr style=\"text-align: right;\">\n      <th></th>\n      <th>Infection_rate</th>\n      <th>Sequential_test</th>\n      <th>Stop_rule</th>\n      <th>Repeat</th>\n      <th>Prob_threshold</th>\n      <th>Acc</th>\n      <th>Acc_SD</th>\n      <th>Sens</th>\n      <th>Sens_SD</th>\n      <th>Spec</th>\n      <th>...</th>\n      <th>PPV</th>\n      <th>PPV_SD</th>\n      <th>NPV</th>\n      <th>NPV_SD</th>\n      <th>Test_consum</th>\n      <th>Test_consum_SD</th>\n      <th>Ind_consum</th>\n      <th>Ind_consum_SD</th>\n      <th>Batch_consum</th>\n      <th>Batch_consum_SD</th>\n    </tr>\n  </thead>\n  <tbody>\n    <tr>\n      <th>0</th>\n      <td>0.001</td>\n      <td>True</td>\n      <td>1</td>\n      <td>3</td>\n      <td>0.3</td>\n      <td>0.99890</td>\n      <td>0.000356</td>\n      <td>0.836949</td>\n      <td>0.096612</td>\n      <td>0.999089</td>\n      <td>...</td>\n      <td>0.515986</td>\n      <td>0.112481</td>\n      <td>0.999810</td>\n      <td>0.000129</td>\n      <td>1349.6</td>\n      <td>223.522408</td>\n      <td>1036.6</td>\n      <td>223.522408</td>\n      <td>313.0</td>\n      <td>0.0</td>\n    </tr>\n    <tr>\n      <th>0</th>\n      <td>0.010</td>\n      <td>True</td>\n      <td>1</td>\n      <td>3</td>\n      <td>0.3</td>\n      <td>0.99537</td>\n      <td>0.000640</td>\n      <td>0.848680</td>\n      <td>0.024739</td>\n      <td>0.996867</td>\n      <td>...</td>\n      <td>0.738856</td>\n      <td>0.025972</td>\n      <td>0.998452</td>\n      <td>0.000171</td>\n      <td>3956.8</td>\n      <td>269.785017</td>\n      <td>3122.8</td>\n      <td>269.785017</td>\n      <td>834.0</td>\n      <td>0.0</td>\n    </tr>\n    <tr>\n      <th>0</th>\n      <td>0.030</td>\n      <td>True</td>\n      <td>1</td>\n      <td>3</td>\n      <td>0.3</td>\n      <td>0.99097</td>\n      <td>0.000617</td>\n      <td>0.846138</td>\n      <td>0.015518</td>\n      <td>0.995473</td>\n      <td>...</td>\n      <td>0.853121</td>\n      <td>0.011845</td>\n      <td>0.995217</td>\n      <td>0.000509</td>\n      <td>6100.0</td>\n      <td>305.337700</td>\n      <td>4671.0</td>\n      <td>305.337700</td>\n      <td>1429.0</td>\n      <td>0.0</td>\n    </tr>\n    <tr>\n      <th>0</th>\n      <td>0.050</td>\n      <td>True</td>\n      <td>1</td>\n      <td>3</td>\n      <td>0.3</td>\n      <td>0.98741</td>\n      <td>0.001050</td>\n      <td>0.850537</td>\n      <td>0.016774</td>\n      <td>0.994438</td>\n      <td>...</td>\n      <td>0.887168</td>\n      <td>0.013225</td>\n      <td>0.992341</td>\n      <td>0.000852</td>\n      <td>7695.5</td>\n      <td>305.011566</td>\n      <td>6028.5</td>\n      <td>305.011566</td>\n      <td>1667.0</td>\n      <td>0.0</td>\n    </tr>\n    <tr>\n      <th>0</th>\n      <td>0.100</td>\n      <td>True</td>\n      <td>1</td>\n      <td>3</td>\n      <td>0.3</td>\n      <td>0.97863</td>\n      <td>0.000851</td>\n      <td>0.849407</td>\n      <td>0.007765</td>\n      <td>0.993137</td>\n      <td>...</td>\n      <td>0.932939</td>\n      <td>0.006359</td>\n      <td>0.983261</td>\n      <td>0.000999</td>\n      <td>9993.7</td>\n      <td>245.049224</td>\n      <td>7493.7</td>\n      <td>245.049224</td>\n      <td>2500.0</td>\n      <td>0.0</td>\n    </tr>\n  </tbody>\n</table>\n<p>5 rows × 21 columns</p>\n</div>"
     },
     "metadata": {},
     "execution_count": 5
    }
   ],
   "source": [
    "df"
   ]
  },
  {
   "source": [
    "table 7 (E)"
   ],
   "cell_type": "markdown",
   "metadata": {}
  },
  {
   "cell_type": "code",
   "execution_count": 13,
   "metadata": {},
   "outputs": [
    {
     "output_type": "stream",
     "name": "stdout",
     "text": [
      "running time: 161.998272895813 s\n"
     ]
    }
   ],
   "source": [
    "time_start = time.time()\n",
    "np.random.seed(0)\n",
    "df = pd.DataFrame([], columns = ['Infection_rate', 'Sequential_test', 'Stop_rule', 'Repeat', 'Prob_threshold', 'Acc', 'Acc_SD', 'Sens', 'Sens_SD', 'Spec','Spec_SD','PPV', 'PPV_SD',\n",
    "'NPV', 'NPV_SD', 'Test_consum', 'Test_consum_SD', 'Ind_consum', 'Ind_consum_SD', 'Batch_consum','Batch_consum_SD'])\n",
    "for prob in [0.001, 0.01, 0.03, 0.05, 0.10]:\n",
    "    temp_data = [fbtk.data_gen(100000, prob) for _ in range(100)]\n",
    "    for i in [True]:\n",
    "        for j in [3]: # stop_rule\n",
    "            for k in [1]: # repeat\n",
    "                batch_size = fbtk.one_batch_test_int_solver(prob, 0.15, 0.01)\n",
    "                kwargs = {'stop_rule': j, 'p': prob, 'batch_size': batch_size,\n",
    "                'typeII_error': 0.15, 'typeI_error': 0.01, 'repeat': k,\n",
    "                'prob_threshold': 0.3, 'seq': i}\n",
    "                test_1 = fbtk.test_result(temp_data, fbtk.seq_test, **kwargs)\n",
    "                temp_mean = test_1.mean()\n",
    "                temp_std = test_1.std()\n",
    "                temp = [kwargs['p'], kwargs['seq'], kwargs['stop_rule'], kwargs['repeat'], kwargs['prob_threshold'],temp_mean['acc'], temp_std['acc'], temp_mean['sens'], temp_std['sens'], temp_mean['spec'], temp_std['spec'], temp_mean['PPV'], temp_std['PPV'], temp_mean['NPV'], temp_std['NPV'], temp_mean['test_consum'], temp_std['test_consum'], temp_mean['ind_consum'], temp_std['ind_consum'], temp_mean['batch_consum'], temp_std['batch_consum']]\n",
    "                temp_df = pd.DataFrame(temp)\n",
    "                temp_df = temp_df.T\n",
    "                temp_df.columns = ['Infection_rate', 'Sequential_test', 'Stop_rule', 'Repeat','Prob_threshold', 'Acc', 'Acc_SD', 'Sens', 'Sens_SD', 'Spec','Spec_SD','PPV', 'PPV_SD',\n",
    "    'NPV', 'NPV_SD', 'Test_consum', 'Test_consum_SD', 'Ind_consum', 'Ind_consum_SD', 'Batch_consum','Batch_consum_SD']\n",
    "                df = pd.concat([df, temp_df])\n",
    "            \n",
    "time_end = time.time()\n",
    "print('running time:', time_end - time_start, 's')"
   ]
  },
  {
   "cell_type": "code",
   "execution_count": 210,
   "metadata": {},
   "outputs": [],
   "source": [
    "df.to_csv('table7_e.csv')"
   ]
  },
  {
   "source": [
    "table 7 (f)"
   ],
   "cell_type": "markdown",
   "metadata": {}
  },
  {
   "cell_type": "code",
   "execution_count": 22,
   "metadata": {},
   "outputs": [
    {
     "output_type": "stream",
     "name": "stdout",
     "text": [
      "running time: 170.3076992034912 s\n"
     ]
    }
   ],
   "source": [
    "time_start = time.time()\n",
    "np.random.seed(0)\n",
    "df = pd.DataFrame([], columns = ['Infection_rate', 'Sequential_test', 'Stop_rule', 'Repeat', 'Prob_threshold', 'Acc', 'Acc_SD', 'Sens', 'Sens_SD', 'Spec','Spec_SD','PPV', 'PPV_SD',\n",
    "'NPV', 'NPV_SD', 'Test_consum', 'Test_consum_SD', 'Ind_consum', 'Ind_consum_SD', 'Batch_consum','Batch_consum_SD'])\n",
    "for prob in [0.001, 0.01, 0.03, 0.05, 0.10]:\n",
    "    temp_data = [fbtk.data_gen(100000, prob) for _ in range(100)]\n",
    "    for i in [True]:\n",
    "        for j in [3]: # stop_rule\n",
    "            for k in [3]: # repeat\n",
    "                batch_size = fbtk.one_batch_test_int_solver(prob, 0.15, 0.01, batch_limit= 32)\n",
    "                kwargs = {'stop_rule': j, 'p': prob, 'batch_size': batch_size,\n",
    "                'typeII_error': 0.15, 'typeI_error': 0.01, 'repeat': k,\n",
    "                'prob_threshold': 0.3, 'seq': i, 'batch_limit': 32}\n",
    "                test_1 = fbtk.test_result(temp_data, fbtk.seq_test, **kwargs)\n",
    "                temp_mean = test_1.mean()\n",
    "                temp_std = test_1.std()\n",
    "                temp = [kwargs['p'], kwargs['seq'], kwargs['stop_rule'], kwargs['repeat'], kwargs['prob_threshold'],temp_mean['acc'], temp_std['acc'], temp_mean['sens'], temp_std['sens'], temp_mean['spec'], temp_std['spec'], temp_mean['PPV'], temp_std['PPV'], temp_mean['NPV'], temp_std['NPV'], temp_mean['test_consum'], temp_std['test_consum'], temp_mean['ind_consum'], temp_std['ind_consum'], temp_mean['batch_consum'], temp_std['batch_consum']]\n",
    "                temp_df = pd.DataFrame(temp)\n",
    "                temp_df = temp_df.T\n",
    "                temp_df.columns = ['Infection_rate', 'Sequential_test', 'Stop_rule', 'Repeat','Prob_threshold', 'Acc', 'Acc_SD', 'Sens', 'Sens_SD', 'Spec','Spec_SD','PPV', 'PPV_SD',\n",
    "    'NPV', 'NPV_SD', 'Test_consum', 'Test_consum_SD', 'Ind_consum', 'Ind_consum_SD', 'Batch_consum','Batch_consum_SD']\n",
    "                df = pd.concat([df, temp_df])\n",
    "            \n",
    "time_end = time.time()\n",
    "print('running time:', time_end - time_start, 's')"
   ]
  },
  {
   "cell_type": "code",
   "execution_count": 33,
   "metadata": {},
   "outputs": [
    {
     "output_type": "execute_result",
     "data": {
      "text/plain": [
       "  Infection_rate Sequential_test Stop_rule Repeat Prob_threshold       Acc  \\\n",
       "0          0.001            True         3      3            0.3  0.999840   \n",
       "0          0.010            True         3      3            0.3  0.998984   \n",
       "0          0.030            True         3      3            0.3  0.996851   \n",
       "0          0.050            True         3      3            0.3  0.995771   \n",
       "0          0.100            True         3      3            0.3  0.992637   \n",
       "\n",
       "     Acc_SD      Sens   Sens_SD      Spec  ...       PPV    PPV_SD       NPV  \\\n",
       "0  0.000039  0.968935  0.016514  0.999871  ...  0.885238  0.028985  0.999969   \n",
       "0  0.000106  0.970045  0.005699  0.999274  ...  0.930681  0.008458  0.999699   \n",
       "0  0.000184  0.972962  0.003310  0.997590  ...  0.925891  0.004399  0.999163   \n",
       "0  0.000207  0.972293  0.002484  0.997004  ...  0.944570  0.002841  0.998543   \n",
       "0  0.000283  0.972528  0.001737  0.994869  ...  0.954653  0.001836  0.996943   \n",
       "\n",
       "     NPV_SD Test_consum Test_consum_SD Ind_consum Ind_consum_SD Batch_consum  \\\n",
       "0  0.000016     7053.31     259.415571    1349.47    157.993700      5703.84   \n",
       "0  0.000058    27809.02     404.188749    8372.65    260.833721     19436.37   \n",
       "0  0.000100    58428.40     609.246098   26619.39    501.235723     31809.01   \n",
       "0  0.000133    75908.21     599.958051   34377.77    440.692702     41530.44   \n",
       "0  0.000194   116341.38     718.261281   57730.23    605.723957     58611.15   \n",
       "\n",
       "  Batch_consum_SD  \n",
       "0      110.743467  \n",
       "0      161.018642  \n",
       "0      154.224649  \n",
       "0      188.841300  \n",
       "0      164.584778  \n",
       "\n",
       "[5 rows x 21 columns]"
      ],
      "text/html": "<div>\n<style scoped>\n    .dataframe tbody tr th:only-of-type {\n        vertical-align: middle;\n    }\n\n    .dataframe tbody tr th {\n        vertical-align: top;\n    }\n\n    .dataframe thead th {\n        text-align: right;\n    }\n</style>\n<table border=\"1\" class=\"dataframe\">\n  <thead>\n    <tr style=\"text-align: right;\">\n      <th></th>\n      <th>Infection_rate</th>\n      <th>Sequential_test</th>\n      <th>Stop_rule</th>\n      <th>Repeat</th>\n      <th>Prob_threshold</th>\n      <th>Acc</th>\n      <th>Acc_SD</th>\n      <th>Sens</th>\n      <th>Sens_SD</th>\n      <th>Spec</th>\n      <th>...</th>\n      <th>PPV</th>\n      <th>PPV_SD</th>\n      <th>NPV</th>\n      <th>NPV_SD</th>\n      <th>Test_consum</th>\n      <th>Test_consum_SD</th>\n      <th>Ind_consum</th>\n      <th>Ind_consum_SD</th>\n      <th>Batch_consum</th>\n      <th>Batch_consum_SD</th>\n    </tr>\n  </thead>\n  <tbody>\n    <tr>\n      <th>0</th>\n      <td>0.001</td>\n      <td>True</td>\n      <td>3</td>\n      <td>3</td>\n      <td>0.3</td>\n      <td>0.999840</td>\n      <td>0.000039</td>\n      <td>0.968935</td>\n      <td>0.016514</td>\n      <td>0.999871</td>\n      <td>...</td>\n      <td>0.885238</td>\n      <td>0.028985</td>\n      <td>0.999969</td>\n      <td>0.000016</td>\n      <td>7053.31</td>\n      <td>259.415571</td>\n      <td>1349.47</td>\n      <td>157.993700</td>\n      <td>5703.84</td>\n      <td>110.743467</td>\n    </tr>\n    <tr>\n      <th>0</th>\n      <td>0.010</td>\n      <td>True</td>\n      <td>3</td>\n      <td>3</td>\n      <td>0.3</td>\n      <td>0.998984</td>\n      <td>0.000106</td>\n      <td>0.970045</td>\n      <td>0.005699</td>\n      <td>0.999274</td>\n      <td>...</td>\n      <td>0.930681</td>\n      <td>0.008458</td>\n      <td>0.999699</td>\n      <td>0.000058</td>\n      <td>27809.02</td>\n      <td>404.188749</td>\n      <td>8372.65</td>\n      <td>260.833721</td>\n      <td>19436.37</td>\n      <td>161.018642</td>\n    </tr>\n    <tr>\n      <th>0</th>\n      <td>0.030</td>\n      <td>True</td>\n      <td>3</td>\n      <td>3</td>\n      <td>0.3</td>\n      <td>0.996851</td>\n      <td>0.000184</td>\n      <td>0.972962</td>\n      <td>0.003310</td>\n      <td>0.997590</td>\n      <td>...</td>\n      <td>0.925891</td>\n      <td>0.004399</td>\n      <td>0.999163</td>\n      <td>0.000100</td>\n      <td>58428.40</td>\n      <td>609.246098</td>\n      <td>26619.39</td>\n      <td>501.235723</td>\n      <td>31809.01</td>\n      <td>154.224649</td>\n    </tr>\n    <tr>\n      <th>0</th>\n      <td>0.050</td>\n      <td>True</td>\n      <td>3</td>\n      <td>3</td>\n      <td>0.3</td>\n      <td>0.995771</td>\n      <td>0.000207</td>\n      <td>0.972293</td>\n      <td>0.002484</td>\n      <td>0.997004</td>\n      <td>...</td>\n      <td>0.944570</td>\n      <td>0.002841</td>\n      <td>0.998543</td>\n      <td>0.000133</td>\n      <td>75908.21</td>\n      <td>599.958051</td>\n      <td>34377.77</td>\n      <td>440.692702</td>\n      <td>41530.44</td>\n      <td>188.841300</td>\n    </tr>\n    <tr>\n      <th>0</th>\n      <td>0.100</td>\n      <td>True</td>\n      <td>3</td>\n      <td>3</td>\n      <td>0.3</td>\n      <td>0.992637</td>\n      <td>0.000283</td>\n      <td>0.972528</td>\n      <td>0.001737</td>\n      <td>0.994869</td>\n      <td>...</td>\n      <td>0.954653</td>\n      <td>0.001836</td>\n      <td>0.996943</td>\n      <td>0.000194</td>\n      <td>116341.38</td>\n      <td>718.261281</td>\n      <td>57730.23</td>\n      <td>605.723957</td>\n      <td>58611.15</td>\n      <td>164.584778</td>\n    </tr>\n  </tbody>\n</table>\n<p>5 rows × 21 columns</p>\n</div>"
     },
     "metadata": {},
     "execution_count": 33
    }
   ],
   "source": [
    "df"
   ]
  },
  {
   "cell_type": "code",
   "execution_count": 23,
   "metadata": {},
   "outputs": [],
   "source": [
    "df.to_csv('table7_f_limit_32.csv')"
   ]
  },
  {
   "cell_type": "code",
   "execution_count": 24,
   "metadata": {},
   "outputs": [
    {
     "output_type": "stream",
     "name": "stderr",
     "text": [
      "/home/hajiang/.local/lib/python3.8/site-packages/scipy/optimize/minpack.py:175: RuntimeWarning: The iteration is not making good progress, as measured by the \n",
      "  improvement from the last ten iterations.\n",
      "  warnings.warn(msg, RuntimeWarning)\n",
      "/home/hajiang/.local/lib/python3.8/site-packages/scipy/optimize/minpack.py:175: RuntimeWarning: The iteration is not making good progress, as measured by the \n",
      "  improvement from the last five Jacobian evaluations.\n",
      "  warnings.warn(msg, RuntimeWarning)\n",
      "running time: 167.65039229393005 s\n"
     ]
    }
   ],
   "source": [
    "time_start = time.time()\n",
    "np.random.seed(0)\n",
    "df = pd.DataFrame([], columns = ['Infection_rate', 'Sequential_test', 'Stop_rule', 'Repeat', 'Prob_threshold', 'Acc', 'Acc_SD', 'Sens', 'Sens_SD', 'Spec','Spec_SD','PPV', 'PPV_SD',\n",
    "'NPV', 'NPV_SD', 'Test_consum', 'Test_consum_SD', 'Ind_consum', 'Ind_consum_SD', 'Batch_consum','Batch_consum_SD'])\n",
    "for prob in [0.001, 0.01, 0.03, 0.05, 0.10]:\n",
    "    temp_data = [fbtk.data_gen(100000, prob) for _ in range(100)]\n",
    "    for i in [True]:\n",
    "        for j in [3]: # stop_rule\n",
    "            for k in [3]: # repeat\n",
    "                batch_size = fbtk.one_batch_test_int_solver(prob, 0.15, 0.01, batch_limit= 64)\n",
    "                kwargs = {'stop_rule': j, 'p': prob, 'batch_size': batch_size,\n",
    "                'typeII_error': 0.15, 'typeI_error': 0.01, 'repeat': k,\n",
    "                'prob_threshold': 0.3, 'seq': i, 'batch_limit': 64}\n",
    "                test_1 = fbtk.test_result(temp_data, fbtk.seq_test, **kwargs)\n",
    "                temp_mean = test_1.mean()\n",
    "                temp_std = test_1.std()\n",
    "                temp = [kwargs['p'], kwargs['seq'], kwargs['stop_rule'], kwargs['repeat'], kwargs['prob_threshold'],temp_mean['acc'], temp_std['acc'], temp_mean['sens'], temp_std['sens'], temp_mean['spec'], temp_std['spec'], temp_mean['PPV'], temp_std['PPV'], temp_mean['NPV'], temp_std['NPV'], temp_mean['test_consum'], temp_std['test_consum'], temp_mean['ind_consum'], temp_std['ind_consum'], temp_mean['batch_consum'], temp_std['batch_consum']]\n",
    "                temp_df = pd.DataFrame(temp)\n",
    "                temp_df = temp_df.T\n",
    "                temp_df.columns = ['Infection_rate', 'Sequential_test', 'Stop_rule', 'Repeat','Prob_threshold', 'Acc', 'Acc_SD', 'Sens', 'Sens_SD', 'Spec','Spec_SD','PPV', 'PPV_SD',\n",
    "    'NPV', 'NPV_SD', 'Test_consum', 'Test_consum_SD', 'Ind_consum', 'Ind_consum_SD', 'Batch_consum','Batch_consum_SD']\n",
    "                df = pd.concat([df, temp_df])\n",
    "            \n",
    "time_end = time.time()\n",
    "print('running time:', time_end - time_start, 's')"
   ]
  },
  {
   "cell_type": "code",
   "execution_count": 25,
   "metadata": {},
   "outputs": [],
   "source": [
    "df.to_csv('table7_f_limit_64.csv')"
   ]
  },
  {
   "cell_type": "code",
   "execution_count": 7,
   "metadata": {},
   "outputs": [
    {
     "output_type": "stream",
     "name": "stdout",
     "text": [
      "running time: 144.58256888389587 s\n"
     ]
    }
   ],
   "source": [
    "time_start = time.time()\n",
    "np.random.seed(0)\n",
    "df = pd.DataFrame([], columns = ['Infection_rate', 'Sequential_test', 'Stop_rule', 'Repeat', 'Prob_threshold', 'Acc', 'Acc_SD', 'Sens', 'Sens_SD', 'Spec','Spec_SD','PPV', 'PPV_SD',\n",
    "'NPV', 'NPV_SD', 'Test_consum', 'Test_consum_SD', 'Ind_consum', 'Ind_consum_SD', 'Batch_consum','Batch_consum_SD'])\n",
    "for prob in [0.001, 0.01, 0.03, 0.05, 0.10]:\n",
    "    temp_data = [fbtk.data_gen(100000, prob) for _ in range(100)]\n",
    "    for i in [True]:\n",
    "        for j in [2]: # stop_rule\n",
    "            for k in [2]: # repeat\n",
    "                batch_size = fbtk.one_batch_test_int_solver(prob, 0.15, 0.01, batch_limit= 32)\n",
    "                kwargs = {'stop_rule': j, 'p': prob, 'batch_size': batch_size,\n",
    "                'typeII_error': 0.15, 'typeI_error': 0.01, 'repeat': k,\n",
    "                'prob_threshold': 0.3, 'seq': i, 'batch_limit': 32}\n",
    "                test_1 = fbtk.test_result(temp_data, fbtk.seq_test, **kwargs)\n",
    "                temp_mean = test_1.mean()\n",
    "                temp_std = test_1.std()\n",
    "                temp = [kwargs['p'], kwargs['seq'], kwargs['stop_rule'], kwargs['repeat'], kwargs['prob_threshold'],temp_mean['acc'], temp_std['acc'], temp_mean['sens'], temp_std['sens'], temp_mean['spec'], temp_std['spec'], temp_mean['PPV'], temp_std['PPV'], temp_mean['NPV'], temp_std['NPV'], temp_mean['test_consum'], temp_std['test_consum'], temp_mean['ind_consum'], temp_std['ind_consum'], temp_mean['batch_consum'], temp_std['batch_consum']]\n",
    "                temp_df = pd.DataFrame(temp)\n",
    "                temp_df = temp_df.T\n",
    "                temp_df.columns = ['Infection_rate', 'Sequential_test', 'Stop_rule', 'Repeat','Prob_threshold', 'Acc', 'Acc_SD', 'Sens', 'Sens_SD', 'Spec','Spec_SD','PPV', 'PPV_SD',\n",
    "    'NPV', 'NPV_SD', 'Test_consum', 'Test_consum_SD', 'Ind_consum', 'Ind_consum_SD', 'Batch_consum','Batch_consum_SD']\n",
    "                df = pd.concat([df, temp_df])\n",
    "            \n",
    "time_end = time.time()\n",
    "print('running time:', time_end - time_start, 's')"
   ]
  },
  {
   "cell_type": "code",
   "execution_count": 8,
   "metadata": {},
   "outputs": [],
   "source": [
    "df.to_csv('stop_rule_2_limit_32.csv')"
   ]
  },
  {
   "cell_type": "code",
   "execution_count": 15,
   "metadata": {},
   "outputs": [
    {
     "output_type": "stream",
     "name": "stdout",
     "text": [
      "running time: 144.80537056922913 s\n"
     ]
    }
   ],
   "source": [
    "time_start = time.time()\n",
    "np.random.seed(0)\n",
    "df = pd.DataFrame([], columns = ['Infection_rate', 'Sequential_test', 'Stop_rule', 'Repeat', 'Prob_threshold', 'Acc', 'Acc_SD', 'Sens', 'Sens_SD', 'Spec','Spec_SD','PPV', 'PPV_SD',\n",
    "'NPV', 'NPV_SD', 'Test_consum', 'Test_consum_SD', 'Ind_consum', 'Ind_consum_SD', 'Batch_consum','Batch_consum_SD'])\n",
    "for prob in [0.001, 0.01, 0.03, 0.05, 0.10]:\n",
    "    temp_data = [fbtk.data_gen(100000, prob) for _ in range(100)]\n",
    "    for i in [True]:\n",
    "        for j in [2]: # stop_rule\n",
    "            for k in [2]: # repeat\n",
    "                batch_size = fbtk.one_batch_test_int_solver(prob, 0.15, 0.01, batch_limit= 64)\n",
    "                kwargs = {'stop_rule': j, 'p': prob, 'batch_size': batch_size,\n",
    "                'typeII_error': 0.15, 'typeI_error': 0.01, 'repeat': k,\n",
    "                'prob_threshold': 0.3, 'seq': i, 'batch_limit': 64} # change batch_limt\n",
    "                test_1 = fbtk.test_result(temp_data, fbtk.seq_test, **kwargs)\n",
    "                temp_mean = test_1.mean()\n",
    "                temp_std = test_1.std()\n",
    "                temp = [kwargs['p'], kwargs['seq'], kwargs['stop_rule'], kwargs['repeat'], kwargs['prob_threshold'],temp_mean['acc'], temp_std['acc'], temp_mean['sens'], temp_std['sens'], temp_mean['spec'], temp_std['spec'], temp_mean['PPV'], temp_std['PPV'], temp_mean['NPV'], temp_std['NPV'], temp_mean['test_consum'], temp_std['test_consum'], temp_mean['ind_consum'], temp_std['ind_consum'], temp_mean['batch_consum'], temp_std['batch_consum']]\n",
    "                temp_df = pd.DataFrame(temp)\n",
    "                temp_df = temp_df.T\n",
    "                temp_df.columns = ['Infection_rate', 'Sequential_test', 'Stop_rule', 'Repeat','Prob_threshold', 'Acc', 'Acc_SD', 'Sens', 'Sens_SD', 'Spec','Spec_SD','PPV', 'PPV_SD',\n",
    "    'NPV', 'NPV_SD', 'Test_consum', 'Test_consum_SD', 'Ind_consum', 'Ind_consum_SD', 'Batch_consum','Batch_consum_SD']\n",
    "                df = pd.concat([df, temp_df])\n",
    "            \n",
    "time_end = time.time()\n",
    "print('running time:', time_end - time_start, 's')\n",
    "df.to_csv('stop_rule_2_limit_64.csv')"
   ]
  },
  {
   "cell_type": "code",
   "execution_count": 15,
   "metadata": {},
   "outputs": [
    {
     "output_type": "stream",
     "name": "stdout",
     "text": [
      "running time: 152.71437311172485 s\n"
     ]
    }
   ],
   "source": [
    "# appendix A\n",
    "# table 7 (a)\n",
    "time_start = time.time()\n",
    "np.random.seed(0)\n",
    "df = pd.DataFrame([], columns = ['Infection_rate', 'Acc', 'Acc_SD', 'Sens', 'Sens_SD', 'Spec','Spec_SD','PPV', 'PPV_SD',\n",
    "'NPV', 'NPV_SD', 'Test_consum', 'Test_consum_SD'])\n",
    "for prob in [0.001, 0.01, 0.03, 0.05, 0.10]:\n",
    "    temp_data = [fbtk.data_gen(100000, prob) for _ in range(100)]\n",
    "    length = len(temp_data)\n",
    "    acc = np.zeros(length)\n",
    "    sens = np.zeros(length)\n",
    "    spec = np.zeros(length)\n",
    "    ppv = np.zeros(length)\n",
    "    npv = np.zeros(length)\n",
    "    test_consum = np.zeros(length)\n",
    "    for i in range(length):\n",
    "        pred, consum = fbtk.conventional_test(temp_data[i], typeII_error= 0.25, typeI_error=0.03)\n",
    "        acc[i] = np.mean(pred[:,1] == temp_data[i][:, 1])\n",
    "        sens[i] = recall_score(temp_data[i][:, 1], pred[:, 1])\n",
    "        spec[i] = fbtk.specificity_score(temp_data[i][:, 1], pred[:, 1])\n",
    "        ppv[i] = precision_score(temp_data[i][:, 1], pred[:, 1])\n",
    "        npv[i] = fbtk.npv_score(temp_data[i][:, 1], pred[:, 1])\n",
    "        test_consum[i] = consum\n",
    "    result = {\n",
    "        'acc': acc,\n",
    "        'sens': sens,\n",
    "        'spec': spec,\n",
    "        'PPV': ppv,\n",
    "        'NPV': npv,\n",
    "        'test_consum': test_consum\n",
    "    \n",
    "    }\n",
    "    result = pd.DataFrame(result)\n",
    "    result_mean = result.mean()\n",
    "    result_std = result.std()\n",
    "    temp_df = [prob, result_mean['acc'], result_std['acc'], result_mean['sens'], result_std['sens'],\n",
    "    result_mean['spec'], result_std['spec'], result_mean['PPV'], result_std['PPV'], result_mean['NPV'],\n",
    "    result_std['NPV'], result_mean['test_consum'], result_std['test_consum']]\n",
    "    temp_df = pd.DataFrame(temp_df)\n",
    "    temp_df = temp_df.T\n",
    "    temp_df.columns = df.columns\n",
    "    df = pd.concat([df, temp_df])\n",
    "\n",
    "\n",
    "  \n",
    "time_end = time.time()\n",
    "print('running time:', time_end - time_start, 's')"
   ]
  },
  {
   "cell_type": "code",
   "execution_count": 238,
   "metadata": {},
   "outputs": [],
   "source": [
    "df.to_csv('appendix_a.csv')"
   ]
  },
  {
   "cell_type": "code",
   "execution_count": 16,
   "metadata": {},
   "outputs": [
    {
     "output_type": "stream",
     "name": "stdout",
     "text": [
      "running time: 117.7569146156311 s\n"
     ]
    }
   ],
   "source": [
    "# Appendix (b)\n",
    "time_start = time.time()\n",
    "np.random.seed(0)\n",
    "df = pd.DataFrame([], columns = ['Infection_rate', 'Sequential_test', 'Stop_rule', 'Repeat', 'Prob_threshold', 'Acc', 'Acc_SD', 'Sens', 'Sens_SD', 'Spec','Spec_SD','PPV', 'PPV_SD',\n",
    "'NPV', 'NPV_SD', 'Test_consum', 'Test_consum_SD', 'Ind_consum', 'Ind_consum_SD', 'Batch_consum','Batch_consum_SD'])\n",
    "for prob in [0.001, 0.01, 0.03, 0.05, 0.10]:\n",
    "    temp_data = [fbtk.data_gen(100000, prob) for _ in range(100)]\n",
    "    for i in [True]:\n",
    "        for j in [1]:\n",
    "            for k in [1]:\n",
    "                \n",
    "                kwargs = {'stop_rule': j, 'p': prob, 'batch_size': 10,\n",
    "                'typeII_error': 0.25, 'typeI_error': 0.03, 'repeat': k,\n",
    "                'prob_threshold': 0.3, 'seq': i}\n",
    "                test_1 = fbtk.test_result(temp_data, fbtk.seq_test, **kwargs)\n",
    "                temp_mean = test_1.mean()\n",
    "                temp_std = test_1.std()\n",
    "                temp = [kwargs['p'], kwargs['seq'], kwargs['stop_rule'], kwargs['repeat'], kwargs['prob_threshold'],temp_mean['acc'], temp_std['acc'], temp_mean['sens'], temp_std['sens'], temp_mean['spec'], temp_std['spec'], temp_mean['PPV'], temp_std['PPV'], temp_mean['NPV'], temp_std['NPV'], temp_mean['test_consum'], temp_std['test_consum'], temp_mean['ind_consum'], temp_std['ind_consum'], temp_mean['batch_consum'], temp_std['batch_consum']]\n",
    "                temp_df = pd.DataFrame(temp)\n",
    "                temp_df = temp_df.T\n",
    "                temp_df.columns = ['Infection_rate', 'Sequential_test', 'Stop_rule', 'Repeat','Prob_threshold', 'Acc', 'Acc_SD', 'Sens', 'Sens_SD', 'Spec','Spec_SD','PPV', 'PPV_SD',\n",
    "    'NPV', 'NPV_SD', 'Test_consum', 'Test_consum_SD', 'Ind_consum', 'Ind_consum_SD', 'Batch_consum','Batch_consum_SD']\n",
    "                df = pd.concat([df, temp_df])\n",
    "            \n",
    "time_end = time.time()\n",
    "print('running time:', time_end - time_start, 's')"
   ]
  },
  {
   "cell_type": "code",
   "execution_count": 242,
   "metadata": {},
   "outputs": [],
   "source": [
    "df.to_csv('appendix_b.csv')"
   ]
  },
  {
   "cell_type": "code",
   "execution_count": 17,
   "metadata": {},
   "outputs": [
    {
     "output_type": "stream",
     "name": "stdout",
     "text": [
      "running time: 131.44559955596924 s\n"
     ]
    }
   ],
   "source": [
    "# Appendix (c)\n",
    "time_start = time.time()\n",
    "np.random.seed(0)\n",
    "df = pd.DataFrame([], columns = ['Infection_rate', 'Sequential_test', 'Stop_rule', 'Repeat', 'Prob_threshold', 'Acc', 'Acc_SD', 'Sens', 'Sens_SD', 'Spec','Spec_SD','PPV', 'PPV_SD',\n",
    "'NPV', 'NPV_SD', 'Test_consum', 'Test_consum_SD', 'Ind_consum', 'Ind_consum_SD', 'Batch_consum','Batch_consum_SD'])\n",
    "for prob in [0.001, 0.01, 0.03, 0.05, 0.10]:\n",
    "    temp_data = [fbtk.data_gen(100000, prob) for _ in range(100)]\n",
    "    for i in [True]:\n",
    "        for j in [1]:\n",
    "            for k in [3]:\n",
    "                batch_size = fbtk.one_batch_test_int_solver(prob, 0.25, 0.03)\n",
    "                kwargs = {'stop_rule': j, 'p': prob, 'batch_size': batch_size,\n",
    "                'typeII_error': 0.25, 'typeI_error': 0.03, 'repeat': k,\n",
    "                'prob_threshold': 0.3, 'seq': i}\n",
    "                test_1 = fbtk.test_result(temp_data, fbtk.seq_test, **kwargs)\n",
    "                temp_mean = test_1.mean()\n",
    "                temp_std = test_1.std()\n",
    "                temp = [kwargs['p'], kwargs['seq'], kwargs['stop_rule'], kwargs['repeat'], kwargs['prob_threshold'],temp_mean['acc'], temp_std['acc'], temp_mean['sens'], temp_std['sens'], temp_mean['spec'], temp_std['spec'], temp_mean['PPV'], temp_std['PPV'], temp_mean['NPV'], temp_std['NPV'], temp_mean['test_consum'], temp_std['test_consum'], temp_mean['ind_consum'], temp_std['ind_consum'], temp_mean['batch_consum'], temp_std['batch_consum']]\n",
    "                temp_df = pd.DataFrame(temp)\n",
    "                temp_df = temp_df.T\n",
    "                temp_df.columns = ['Infection_rate', 'Sequential_test', 'Stop_rule', 'Repeat','Prob_threshold', 'Acc', 'Acc_SD', 'Sens', 'Sens_SD', 'Spec','Spec_SD','PPV', 'PPV_SD',\n",
    "    'NPV', 'NPV_SD', 'Test_consum', 'Test_consum_SD', 'Ind_consum', 'Ind_consum_SD', 'Batch_consum','Batch_consum_SD']\n",
    "                df = pd.concat([df, temp_df])\n",
    "            \n",
    "time_end = time.time()\n",
    "print('running time:', time_end - time_start, 's')"
   ]
  },
  {
   "cell_type": "code",
   "execution_count": 247,
   "metadata": {},
   "outputs": [],
   "source": [
    "df.to_csv('appendix_c.csv')"
   ]
  },
  {
   "cell_type": "code",
   "execution_count": 18,
   "metadata": {},
   "outputs": [
    {
     "output_type": "stream",
     "name": "stdout",
     "text": [
      "running time: 154.8913700580597 s\n"
     ]
    }
   ],
   "source": [
    "# Appendix (d)\n",
    "time_start = time.time()\n",
    "np.random.seed(0)\n",
    "df = pd.DataFrame([], columns = ['Infection_rate', 'Sq_Repeat', 'Ind_Repeat', 'Acc', 'Acc_SD', 'Sens', 'Sens_SD', 'Spec','Spec_SD','PPV', 'PPV_SD',\n",
    "'NPV', 'NPV_SD', 'Test_consum', 'Test_consum_SD', 'Ind_consum', 'Ind_consum_SD', 'Batch_consum','Batch_consum_SD'])\n",
    "for prob in [0.001, 0.01, 0.03, 0.05, 0.10]:\n",
    "    temp_data = [fbtk.data_gen(100000, prob) for _ in range(100)]\n",
    "    for i in [3]: # sq_repeat\n",
    "        for j in [3]: # ind_repeat\n",
    "            kwargs = {\n",
    "                'side_length': 12,\n",
    "                'typeII_error': 0.25,\n",
    "                'typeI_error': 0.03,\n",
    "                'sq_repeat': i,\n",
    "                'ind_repeat': j\n",
    "            }\n",
    "            test_1 = fbtk.test_result(temp_data, fbtk.matrix_test, **kwargs)\n",
    "            temp_mean = test_1.mean()\n",
    "            temp_std = test_1.std()\n",
    "            temp = [prob, kwargs['sq_repeat'], kwargs['ind_repeat'], temp_mean['acc'], temp_std['acc'], temp_mean['sens'], temp_std['sens'], temp_mean['spec'], temp_std['spec'], temp_mean['PPV'], temp_std['PPV'], temp_mean['NPV'], temp_std['NPV'], temp_mean['test_consum'], temp_std['test_consum'], temp_mean['ind_consum'], temp_std['ind_consum'], temp_mean['batch_consum'], temp_std['batch_consum']]\n",
    "            temp_df = pd.DataFrame(temp)\n",
    "            temp_df = temp_df.T\n",
    "            temp_df.columns = ['Infection_rate', 'Sq_Repeat', 'Ind_Repeat', 'Acc', 'Acc_SD', 'Sens', 'Sens_SD', 'Spec','Spec_SD','PPV', 'PPV_SD',\n",
    "'NPV', 'NPV_SD', 'Test_consum', 'Test_consum_SD', 'Ind_consum', 'Ind_consum_SD', 'Batch_consum','Batch_consum_SD']\n",
    "            df = pd.concat([df, temp_df])\n",
    "\n",
    "            \n",
    "                \n",
    "               \n",
    "            \n",
    "time_end = time.time()\n",
    "print('running time:', time_end - time_start, 's')"
   ]
  },
  {
   "cell_type": "code",
   "execution_count": 250,
   "metadata": {},
   "outputs": [],
   "source": [
    "df.to_csv('appendix_d.csv')"
   ]
  },
  {
   "cell_type": "code",
   "execution_count": 19,
   "metadata": {},
   "outputs": [
    {
     "output_type": "stream",
     "name": "stdout",
     "text": [
      "running time: 165.98010206222534 s\n"
     ]
    }
   ],
   "source": [
    "# Appendix e\n",
    "time_start = time.time()\n",
    "np.random.seed(0)\n",
    "df = pd.DataFrame([], columns = ['Infection_rate', 'Sequential_test', 'Stop_rule', 'Repeat', 'Prob_threshold', 'Acc', 'Acc_SD', 'Sens', 'Sens_SD', 'Spec','Spec_SD','PPV', 'PPV_SD',\n",
    "'NPV', 'NPV_SD', 'Test_consum', 'Test_consum_SD', 'Ind_consum', 'Ind_consum_SD', 'Batch_consum','Batch_consum_SD'])\n",
    "for prob in [0.001, 0.01, 0.03, 0.05, 0.10]:\n",
    "    temp_data = [fbtk.data_gen(100000, prob) for _ in range(100)]\n",
    "    for i in [True]:\n",
    "        for j in [3]: # stop_rule\n",
    "            for k in [1]: # repeat\n",
    "                batch_size = fbtk.one_batch_test_int_solver(prob, 0.25, 0.03)\n",
    "                kwargs = {'stop_rule': j, 'p': prob, 'batch_size': batch_size,\n",
    "                'typeII_error': 0.25, 'typeI_error': 0.03, 'repeat': k,\n",
    "                'prob_threshold': 0.3, 'seq': i}\n",
    "                test_1 = fbtk.test_result(temp_data, fbtk.seq_test, **kwargs)\n",
    "                temp_mean = test_1.mean()\n",
    "                temp_std = test_1.std()\n",
    "                temp = [kwargs['p'], kwargs['seq'], kwargs['stop_rule'], kwargs['repeat'], kwargs['prob_threshold'],temp_mean['acc'], temp_std['acc'], temp_mean['sens'], temp_std['sens'], temp_mean['spec'], temp_std['spec'], temp_mean['PPV'], temp_std['PPV'], temp_mean['NPV'], temp_std['NPV'], temp_mean['test_consum'], temp_std['test_consum'], temp_mean['ind_consum'], temp_std['ind_consum'], temp_mean['batch_consum'], temp_std['batch_consum']]\n",
    "                temp_df = pd.DataFrame(temp)\n",
    "                temp_df = temp_df.T\n",
    "                temp_df.columns = ['Infection_rate', 'Sequential_test', 'Stop_rule', 'Repeat','Prob_threshold', 'Acc', 'Acc_SD', 'Sens', 'Sens_SD', 'Spec','Spec_SD','PPV', 'PPV_SD',\n",
    "    'NPV', 'NPV_SD', 'Test_consum', 'Test_consum_SD', 'Ind_consum', 'Ind_consum_SD', 'Batch_consum','Batch_consum_SD']\n",
    "                df = pd.concat([df, temp_df])\n",
    "            \n",
    "time_end = time.time()\n",
    "print('running time:', time_end - time_start, 's')"
   ]
  },
  {
   "cell_type": "code",
   "execution_count": 254,
   "metadata": {},
   "outputs": [
    {
     "output_type": "stream",
     "name": "stdout",
     "text": [
      "time cost: 177.40325736999512 s\n"
     ]
    }
   ],
   "source": [
    "# Appendix f\n",
    "time_start = time.time()\n",
    "np.random.seed(0)\n",
    "df = pd.DataFrame([], columns = ['Infection_rate', 'Sequential_test', 'Stop_rule', 'Repeat', 'Prob_threshold', 'Acc', 'Acc_SD', 'Sens', 'Sens_SD', 'Spec','Spec_SD','PPV', 'PPV_SD',\n",
    "'NPV', 'NPV_SD', 'Test_consum', 'Test_consum_SD', 'Ind_consum', 'Ind_consum_SD', 'Batch_consum','Batch_consum_SD'])\n",
    "for prob in [0.001, 0.01, 0.03, 0.05, 0.10]:\n",
    "    temp_data = [fbtk.data_gen(100000, prob) for _ in range(100)]\n",
    "    for i in [True]:\n",
    "        for j in [3]: # stop_rule\n",
    "            for k in [3]: # repeat\n",
    "                batch_size = fbtk.one_batch_test_int_solver(prob, 0.25, 0.03)\n",
    "                kwargs = {'stop_rule': j, 'p': prob, 'batch_size': batch_size,\n",
    "                'typeII_error': 0.25, 'typeI_error': 0.03, 'repeat': k,\n",
    "                'prob_threshold': 0.3, 'seq': i}\n",
    "                test_1 = fbtk.test_result(temp_data, fbtk.seq_test, **kwargs)\n",
    "                temp_mean = test_1.mean()\n",
    "                temp_std = test_1.std()\n",
    "                temp = [kwargs['p'], kwargs['seq'], kwargs['stop_rule'], kwargs['repeat'], kwargs['prob_threshold'],temp_mean['acc'], temp_std['acc'], temp_mean['sens'], temp_std['sens'], temp_mean['spec'], temp_std['spec'], temp_mean['PPV'], temp_std['PPV'], temp_mean['NPV'], temp_std['NPV'], temp_mean['test_consum'], temp_std['test_consum'], temp_mean['ind_consum'], temp_std['ind_consum'], temp_mean['batch_consum'], temp_std['batch_consum']]\n",
    "                temp_df = pd.DataFrame(temp)\n",
    "                temp_df = temp_df.T\n",
    "                temp_df.columns = ['Infection_rate', 'Sequential_test', 'Stop_rule', 'Repeat','Prob_threshold', 'Acc', 'Acc_SD', 'Sens', 'Sens_SD', 'Spec','Spec_SD','PPV', 'PPV_SD',\n",
    "    'NPV', 'NPV_SD', 'Test_consum', 'Test_consum_SD', 'Ind_consum', 'Ind_consum_SD', 'Batch_consum','Batch_consum_SD']\n",
    "                df = pd.concat([df, temp_df])\n",
    "            \n",
    "time_end = time.time()\n",
    "print('running time:', time_end - time_start, 's')"
   ]
  },
  {
   "cell_type": "code",
   "execution_count": 4,
   "metadata": {},
   "outputs": [
    {
     "output_type": "execute_result",
     "data": {
      "text/plain": [
       "0"
      ]
     },
     "metadata": {},
     "execution_count": 4
    }
   ],
   "source": [
    "string = ''\n",
    "str.count(string, '+')"
   ]
  },
  {
   "cell_type": "code",
   "execution_count": 5,
   "metadata": {},
   "outputs": [],
   "source": [
    "def helper_fun(n, string = ''):\n",
    "    if str.count(string, '+') >= n or str.count(string, '-') >= n:\n",
    "        return string\n",
    "    else:\n",
    "        next_string = string + '+'\n",
    "        return helper_fun(n, next_string )"
   ]
  },
  {
   "cell_type": "code",
   "execution_count": 2,
   "metadata": {},
   "outputs": [],
   "source": [
    "def name_fun(n):\n",
    "    \"\"\"\n",
    "    input: stopping rule\n",
    "    output: finish nodes\n",
    "    \"\"\"\n",
    "    output = []\n",
    "    temp = ['']\n",
    "    for i in range(2*n-1):\n",
    "        temp_cur = []\n",
    "        for j in temp:\n",
    "            candidate_pos = j + '+'\n",
    "            candidate_neg = j + '-'\n",
    "            if str.count(candidate_pos, '+') >= n:\n",
    "                output.append(candidate_pos)\n",
    "            else:\n",
    "                temp_cur.append(candidate_pos)\n",
    "\n",
    "            if str.count(candidate_neg, '-') >= n:\n",
    "                output.append(candidate_neg)\n",
    "            else:\n",
    "                temp_cur.append(candidate_neg)\n",
    "\n",
    "        temp = temp_cur\n",
    "\n",
    "        neg_symbol = [x for x in output if str.count(x, '-') == n]\n",
    "        pos_symbol = [x for x in output if str.count(x, '+') == n]\n",
    "\n",
    "    return output, neg_symbol, pos_symbol\n",
    "\n",
    "\n",
    "\n"
   ]
  },
  {
   "cell_type": "code",
   "execution_count": 3,
   "metadata": {},
   "outputs": [],
   "source": [
    "a, b, c = name_fun(3)"
   ]
  },
  {
   "cell_type": "code",
   "execution_count": 28,
   "metadata": {},
   "outputs": [
    {
     "output_type": "execute_result",
     "data": {
      "text/plain": [
       "0.7224999999999999"
      ]
     },
     "metadata": {},
     "execution_count": 28
    }
   ],
   "source": [
    "(1-0.15) ** 2"
   ]
  },
  {
   "cell_type": "code",
   "execution_count": 21,
   "metadata": {},
   "outputs": [],
   "source": [
    "from scipy.special import binom"
   ]
  },
  {
   "cell_type": "code",
   "execution_count": 27,
   "metadata": {},
   "outputs": [
    {
     "output_type": "execute_result",
     "data": {
      "text/plain": [
       "0.9701029400781247"
      ]
     },
     "metadata": {},
     "execution_count": 27
    }
   ],
   "source": [
    "sum([(1-0.15) ** 3 * (1-0.15 ** 3) * binom(2+i, i) * 0.15 ** i for i in range(0, 3)])"
   ]
  },
  {
   "cell_type": "code",
   "execution_count": 19,
   "metadata": {},
   "outputs": [
    {
     "output_type": "execute_result",
     "data": {
      "text/plain": [
       "0.7200615624999999"
      ]
     },
     "metadata": {},
     "execution_count": 19
    }
   ],
   "source": [
    "(1-0.15) ** 2 * (1 - 0.15 ** 3)"
   ]
  },
  {
   "cell_type": "code",
   "execution_count": 13,
   "metadata": {},
   "outputs": [],
   "source": [
    "def sensitivity(n, beta):\n",
    "    _, _, pos_node = name_fun(n)\n",
    "    res = [(1-beta) * (1-beta) ** i.count('+') * beta ** (i.count('-')) for i in pos_node]\n",
    "    return sum(res)\n",
    "\n"
   ]
  },
  {
   "cell_type": "code",
   "execution_count": 12,
   "metadata": {},
   "outputs": [],
   "source": [
    "n = 3\n",
    "output = []\n",
    "temp = ['']\n",
    "for i in range(2*n-1):\n",
    "    temp_cur = []\n",
    "    for j in temp:\n",
    "        candidate_pos = j + '+'\n",
    "        candidate_neg = j + '-'\n",
    "        if str.count(candidate_pos, '+') >= n:\n",
    "            output.append(candidate_pos)\n",
    "        else:\n",
    "            temp_cur.append(candidate_pos)\n",
    "\n",
    "        if str.count(candidate_neg, '-') >= n:\n",
    "            output.append(candidate_neg)\n",
    "        else:\n",
    "            temp_cur.append(candidate_neg)\n",
    "\n",
    "    temp = temp_cur"
   ]
  },
  {
   "cell_type": "code",
   "execution_count": null,
   "metadata": {},
   "outputs": [],
   "source": []
  },
  {
   "cell_type": "code",
   "execution_count": 178,
   "metadata": {},
   "outputs": [],
   "source": [
    "temp = fbtk.data_gen(100000, 0.1)"
   ]
  },
  {
   "cell_type": "code",
   "execution_count": 191,
   "metadata": {},
   "outputs": [],
   "source": [
    "a, b, c, d, e = fbtk.seq_test_with_node(temp,stop_rule = 3,p = 0.1, batch_size = 32, typeII_error = 0.15, typeI_error = 0.01, repeat = 1, \n",
    "prob_threshold = 0.3, seq = True, batch_limit = 32)"
   ]
  },
  {
   "cell_type": "code",
   "execution_count": 165,
   "metadata": {},
   "outputs": [
    {
     "output_type": "execute_result",
     "data": {
      "text/plain": [
       "False"
      ]
     },
     "metadata": {},
     "execution_count": 165
    }
   ],
   "source": [
    "10 > np.inf"
   ]
  },
  {
   "cell_type": "code",
   "execution_count": 190,
   "metadata": {},
   "outputs": [
    {
     "output_type": "execute_result",
     "data": {
      "text/plain": [
       "array([[    0,     0],\n",
       "       [    1,     0],\n",
       "       [    2,     0],\n",
       "       ...,\n",
       "       [99997,     0],\n",
       "       [99998,     0],\n",
       "       [99999,     0]])"
      ]
     },
     "metadata": {},
     "execution_count": 190
    }
   ],
   "source": [
    "a"
   ]
  },
  {
   "cell_type": "code",
   "execution_count": 30,
   "metadata": {},
   "outputs": [],
   "source": [
    "def node_summary(data, seq_test, stopping_rule, **kwargs):\n",
    "    a, _, _ = fbtk.name_fun(stopping_rule)\n",
    "    a.extend(['other'])\n",
    "    df = pd.DataFrame([], columns = a)\n",
    "    b = ['stage_' + str(i) for i in range(1, 2*stopping_rule)]\n",
    "    df_b = pd.DataFrame([], columns = b)\n",
    "    if not isinstance(data, list):\n",
    "        _, _, _, node, batch_list = seq_test(data, **kwargs)\n",
    "        temp = np.zeros(len(a))\n",
    "        node_count = collections.Counter(node)\n",
    "        for i in node_count:\n",
    "            if i in a:\n",
    "                idx = a.index(i)\n",
    "                temp[idx] = node_count[i]\n",
    "            else:\n",
    "                temp[-1] += node_count[i]\n",
    "        df.loc[len(df)] = temp\n",
    "        df_b.loc[len(df)] = batch_list\n",
    "\n",
    "        return df, df_b\n",
    "\n",
    "    else:\n",
    "        for j in range(len(data)):\n",
    "            _, _, _, node, batch_list = seq_test(data[j], **kwargs)\n",
    "            temp = np.zeros(len(a))\n",
    "            node_count = collections.Counter(node)\n",
    "            for i in node_count:\n",
    "                if i in a:\n",
    "                    idx = a.index(i)\n",
    "                    temp[idx] = node_count[i]\n",
    "                else:\n",
    "                    temp[-1] += node_count[i]\n",
    "            df.loc[len(df)] = temp\n",
    "            df_b.loc[len(df)] = batch_list\n",
    "\n",
    "\n",
    "        return df, df_b\n",
    "\n",
    "\n"
   ]
  },
  {
   "cell_type": "code",
   "execution_count": 4,
   "metadata": {},
   "outputs": [],
   "source": [
    "s = 0.1\n",
    "k = 10000000\n",
    "time_start = time.time()\n",
    "np.random.seed(0)\n",
    "data = fbtk.data_gen(100000, s)\n",
    "a,b, c, d, e, = fbtk.seq_test_with_node(data, 3, 0.1,32, 0.15, 0.01, 3, 0.3, batch_limit=k)\n",
    "a1, b1, c1 = fbtk.seq_test(data, 3, 0.1, 32, 0.15, 0.01, 3, 0.3, seq = True, batch_limit = k)"
   ]
  },
  {
   "cell_type": "code",
   "execution_count": 6,
   "metadata": {},
   "outputs": [
    {
     "output_type": "execute_result",
     "data": {
      "text/plain": [
       "[3125.0, 27218.0, 45978.0, 53976.0, 56385.0]"
      ]
     },
     "metadata": {},
     "execution_count": 6
    }
   ],
   "source": [
    "e"
   ]
  },
  {
   "cell_type": "code",
   "execution_count": 5,
   "metadata": {},
   "outputs": [
    {
     "output_type": "execute_result",
     "data": {
      "text/plain": [
       "0.99167"
      ]
     },
     "metadata": {},
     "execution_count": 5
    }
   ],
   "source": [
    "np.mean(a[:,1] == data[:,1])\n",
    "#print(b, b1, c, c1)"
   ]
  },
  {
   "cell_type": "code",
   "execution_count": 20,
   "metadata": {},
   "outputs": [
    {
     "output_type": "stream",
     "name": "stderr",
     "text": [
      "/home/hajiang/.local/lib/python3.8/site-packages/scipy/optimize/minpack.py:175: RuntimeWarning: The iteration is not making good progress, as measured by the \n",
      "  improvement from the last ten iterations.\n",
      "  warnings.warn(msg, RuntimeWarning)\n",
      "/home/hajiang/.local/lib/python3.8/site-packages/scipy/optimize/minpack.py:175: RuntimeWarning: The iteration is not making good progress, as measured by the \n",
      "  improvement from the last five Jacobian evaluations.\n",
      "  warnings.warn(msg, RuntimeWarning)\n",
      "494.0853660106659\n"
     ]
    }
   ],
   "source": [
    "time_start = time.time()\n",
    "np.random.seed(0)\n",
    "node_name,_,_ = fbtk.name_fun(3)\n",
    "result = pd.DataFrame([], columns=node_name.extend(['p', 'stop_rule', 'upper limit']))\n",
    "col_b = ['stage_' + str(i) for i in range(1, 2*3)]\n",
    "col_b.extend(['p', 'stop_rule', 'upper limit'])\n",
    "\n",
    "result_b = pd.DataFrame([], columns = col_b)\n",
    "for s in [0.001, 0.01, 0.03, 0.05, 0.1]:\n",
    "    temp_data = [fbtk.data_gen(100000, s) for _ in range(100)]\n",
    "    for i in [True]:\n",
    "        for j in [3]: # stop_rule\n",
    "            for k in [32, 64, 1000000]: # batch_upperlimit\n",
    "                batch_size = fbtk.one_batch_test_int_solver(s, 0.15, 0.01, batch_limit= k)\n",
    "                kwargs = {'stop_rule': j, 'p': s, 'batch_size': batch_size,\n",
    "                'typeII_error': 0.15, 'typeI_error': 0.01, 'repeat': 3,\n",
    "                'prob_threshold': 0.3, 'seq': i, 'batch_limit': k}\n",
    "                test, test_b = node_summary(temp_data, fbtk.seq_test_with_node,j,**kwargs)\n",
    "                test['p'] = s\n",
    "                test['stop_rule'] = 3\n",
    "                test['upper limit'] = k\n",
    "                test_b['p'] = s\n",
    "                test_b['stop_rule'] = 3\n",
    "                test_b['p'] = s\n",
    "                test_b['upper limit'] = k\n",
    "                result = pd.concat([result, test])\n",
    "                result_b = pd.concat([result_b, test_b])\n",
    "\n",
    "time_end = time.time()\n",
    "print(time_end - time_start)"
   ]
  },
  {
   "cell_type": "code",
   "execution_count": 7,
   "metadata": {},
   "outputs": [
    {
     "output_type": "stream",
     "name": "stderr",
     "text": [
      "/home/hajiang/.local/lib/python3.8/site-packages/scipy/optimize/minpack.py:175: RuntimeWarning: The iteration is not making good progress, as measured by the \n",
      "  improvement from the last ten iterations.\n",
      "  warnings.warn(msg, RuntimeWarning)\n",
      "612.2456967830658\n"
     ]
    }
   ],
   "source": [
    "time_start = time.time()\n",
    "np.random.seed(0)\n",
    "node_name,_,_ = fbtk.name_fun(3)\n",
    "result = pd.DataFrame([], columns=node_name.extend(['p', 'stop_rule', 'upper limit']))\n",
    "col_b = ['stage_' + str(i) for i in range(1, 2*3)]\n",
    "col_b.extend(['p', 'stop_rule', 'upper limit'])\n",
    "\n",
    "result_b = pd.DataFrame([], columns = col_b)\n",
    "for s in [0.001, 0.01, 0.03]:\n",
    "    temp_data = [fbtk.data_gen(100000, s) for _ in range(1000)]\n",
    "    for i in [True]:\n",
    "        for j in [3]: # stop_rule\n",
    "            for k in [1000000]: # batch_upperlimit\n",
    "                batch_size = fbtk.one_batch_test_int_solver(s, 0.15, 0.01, batch_limit= k)\n",
    "                kwargs = {'stop_rule': j, 'p': s, 'batch_size': batch_size,\n",
    "                'typeII_error': 0.15, 'typeI_error': 0.01, 'repeat': 3,\n",
    "                'prob_threshold': 1, 'seq': i, 'batch_limit': k}\n",
    "                test, test_b = node_summary(temp_data, fbtk.seq_test_with_node,j,**kwargs)\n",
    "                test['p'] = s\n",
    "                test['stop_rule'] = 3\n",
    "                test['upper limit'] = k\n",
    "                test_b['p'] = s\n",
    "                test_b['stop_rule'] = 3\n",
    "                test_b['p'] = s\n",
    "                test_b['upper limit'] = k\n",
    "                result = pd.concat([result, test])\n",
    "                result_b = pd.concat([result_b, test_b])\n",
    "\n",
    "time_end = time.time()\n",
    "print(time_end - time_start)"
   ]
  },
  {
   "cell_type": "code",
   "execution_count": 9,
   "metadata": {},
   "outputs": [],
   "source": [
    "result.to_csv('more_sim.csv')"
   ]
  },
  {
   "cell_type": "code",
   "execution_count": 17,
   "metadata": {},
   "outputs": [
    {
     "output_type": "execute_result",
     "data": {
      "text/plain": [
       "    stage_1  stage_2  stage_3  stage_4  stage_5      p stop_rule upper limit\n",
       "1    3125.0   6616.0  10040.0  10339.0  10417.0  0.001         3          32\n",
       "2    3125.0   6586.0   9980.0  10257.0  10324.0  0.001         3          32\n",
       "3    3125.0   6613.0  10035.0  10322.0  10388.0  0.001         3          32\n",
       "4    3125.0   6574.0   9941.0  10170.0  10222.0  0.001         3          32\n",
       "5    3125.0   6580.0  10007.0  10300.0  10368.0  0.001         3          32\n",
       "..      ...      ...      ...      ...      ...    ...       ...         ...\n",
       "6   25000.0  43650.0  52128.0  56847.0  58331.0  0.100         3     1000000\n",
       "7   25000.0  43747.0  52300.0  57108.0  58674.0  0.100         3     1000000\n",
       "8   25000.0  43822.0  52400.0  57318.0  58933.0  0.100         3     1000000\n",
       "9   25000.0  43777.0  52308.0  57158.0  58789.0  0.100         3     1000000\n",
       "10  25000.0  43728.0  52319.0  57163.0  58767.0  0.100         3     1000000\n",
       "\n",
       "[150 rows x 8 columns]"
      ],
      "text/html": "<div>\n<style scoped>\n    .dataframe tbody tr th:only-of-type {\n        vertical-align: middle;\n    }\n\n    .dataframe tbody tr th {\n        vertical-align: top;\n    }\n\n    .dataframe thead th {\n        text-align: right;\n    }\n</style>\n<table border=\"1\" class=\"dataframe\">\n  <thead>\n    <tr style=\"text-align: right;\">\n      <th></th>\n      <th>stage_1</th>\n      <th>stage_2</th>\n      <th>stage_3</th>\n      <th>stage_4</th>\n      <th>stage_5</th>\n      <th>p</th>\n      <th>stop_rule</th>\n      <th>upper limit</th>\n    </tr>\n  </thead>\n  <tbody>\n    <tr>\n      <th>1</th>\n      <td>3125.0</td>\n      <td>6616.0</td>\n      <td>10040.0</td>\n      <td>10339.0</td>\n      <td>10417.0</td>\n      <td>0.001</td>\n      <td>3</td>\n      <td>32</td>\n    </tr>\n    <tr>\n      <th>2</th>\n      <td>3125.0</td>\n      <td>6586.0</td>\n      <td>9980.0</td>\n      <td>10257.0</td>\n      <td>10324.0</td>\n      <td>0.001</td>\n      <td>3</td>\n      <td>32</td>\n    </tr>\n    <tr>\n      <th>3</th>\n      <td>3125.0</td>\n      <td>6613.0</td>\n      <td>10035.0</td>\n      <td>10322.0</td>\n      <td>10388.0</td>\n      <td>0.001</td>\n      <td>3</td>\n      <td>32</td>\n    </tr>\n    <tr>\n      <th>4</th>\n      <td>3125.0</td>\n      <td>6574.0</td>\n      <td>9941.0</td>\n      <td>10170.0</td>\n      <td>10222.0</td>\n      <td>0.001</td>\n      <td>3</td>\n      <td>32</td>\n    </tr>\n    <tr>\n      <th>5</th>\n      <td>3125.0</td>\n      <td>6580.0</td>\n      <td>10007.0</td>\n      <td>10300.0</td>\n      <td>10368.0</td>\n      <td>0.001</td>\n      <td>3</td>\n      <td>32</td>\n    </tr>\n    <tr>\n      <th>...</th>\n      <td>...</td>\n      <td>...</td>\n      <td>...</td>\n      <td>...</td>\n      <td>...</td>\n      <td>...</td>\n      <td>...</td>\n      <td>...</td>\n    </tr>\n    <tr>\n      <th>6</th>\n      <td>25000.0</td>\n      <td>43650.0</td>\n      <td>52128.0</td>\n      <td>56847.0</td>\n      <td>58331.0</td>\n      <td>0.100</td>\n      <td>3</td>\n      <td>1000000</td>\n    </tr>\n    <tr>\n      <th>7</th>\n      <td>25000.0</td>\n      <td>43747.0</td>\n      <td>52300.0</td>\n      <td>57108.0</td>\n      <td>58674.0</td>\n      <td>0.100</td>\n      <td>3</td>\n      <td>1000000</td>\n    </tr>\n    <tr>\n      <th>8</th>\n      <td>25000.0</td>\n      <td>43822.0</td>\n      <td>52400.0</td>\n      <td>57318.0</td>\n      <td>58933.0</td>\n      <td>0.100</td>\n      <td>3</td>\n      <td>1000000</td>\n    </tr>\n    <tr>\n      <th>9</th>\n      <td>25000.0</td>\n      <td>43777.0</td>\n      <td>52308.0</td>\n      <td>57158.0</td>\n      <td>58789.0</td>\n      <td>0.100</td>\n      <td>3</td>\n      <td>1000000</td>\n    </tr>\n    <tr>\n      <th>10</th>\n      <td>25000.0</td>\n      <td>43728.0</td>\n      <td>52319.0</td>\n      <td>57163.0</td>\n      <td>58767.0</td>\n      <td>0.100</td>\n      <td>3</td>\n      <td>1000000</td>\n    </tr>\n  </tbody>\n</table>\n<p>150 rows × 8 columns</p>\n</div>"
     },
     "metadata": {},
     "execution_count": 17
    }
   ],
   "source": [
    "result_b"
   ]
  },
  {
   "cell_type": "code",
   "execution_count": 21,
   "metadata": {},
   "outputs": [],
   "source": [
    "result.to_csv('node_test.csv')\n",
    "result_b.to_csv('batch_cum.csv')"
   ]
  },
  {
   "cell_type": "code",
   "execution_count": 6,
   "metadata": {},
   "outputs": [
    {
     "output_type": "error",
     "ename": "TypeError",
     "evalue": "'tuple' object does not support item assignment",
     "traceback": [
      "\u001b[0;31m---------------------------------------------------------------------------\u001b[0m",
      "\u001b[0;31mTypeError\u001b[0m                                 Traceback (most recent call last)",
      "\u001b[0;32m<ipython-input-6-aafb94f70b08>\u001b[0m in \u001b[0;36m<module>\u001b[0;34m\u001b[0m\n\u001b[1;32m     13\u001b[0m                 'prob_threshold': 1, 'seq': i, 'batch_limit': k}\n\u001b[1;32m     14\u001b[0m                 \u001b[0mtest\u001b[0m \u001b[0;34m=\u001b[0m \u001b[0mnode_summary\u001b[0m\u001b[0;34m(\u001b[0m\u001b[0mtemp_data\u001b[0m\u001b[0;34m,\u001b[0m \u001b[0mfbtk\u001b[0m\u001b[0;34m.\u001b[0m\u001b[0mseq_test_with_node\u001b[0m\u001b[0;34m,\u001b[0m\u001b[0mj\u001b[0m\u001b[0;34m,\u001b[0m\u001b[0;34m**\u001b[0m\u001b[0mkwargs\u001b[0m\u001b[0;34m)\u001b[0m\u001b[0;34m\u001b[0m\u001b[0;34m\u001b[0m\u001b[0m\n\u001b[0;32m---> 15\u001b[0;31m                 \u001b[0mtest\u001b[0m\u001b[0;34m[\u001b[0m\u001b[0;34m'p'\u001b[0m\u001b[0;34m]\u001b[0m \u001b[0;34m=\u001b[0m \u001b[0ms\u001b[0m\u001b[0;34m\u001b[0m\u001b[0;34m\u001b[0m\u001b[0m\n\u001b[0m\u001b[1;32m     16\u001b[0m                 \u001b[0mtest\u001b[0m\u001b[0;34m[\u001b[0m\u001b[0;34m'stop_rule'\u001b[0m\u001b[0;34m]\u001b[0m \u001b[0;34m=\u001b[0m \u001b[0;36m3\u001b[0m\u001b[0;34m\u001b[0m\u001b[0;34m\u001b[0m\u001b[0m\n\u001b[1;32m     17\u001b[0m                 \u001b[0mtest\u001b[0m\u001b[0;34m[\u001b[0m\u001b[0;34m'upper limit'\u001b[0m\u001b[0;34m]\u001b[0m \u001b[0;34m=\u001b[0m \u001b[0mk\u001b[0m\u001b[0;34m\u001b[0m\u001b[0;34m\u001b[0m\u001b[0m\n",
      "\u001b[0;31mTypeError\u001b[0m: 'tuple' object does not support item assignment"
     ]
    }
   ],
   "source": [
    "time_start = time.time()\n",
    "np.random.seed(0)\n",
    "node_name,_,_ = fbtk.name_fun(3)\n",
    "result = pd.DataFrame([], columns=node_name.extend(['p', 'stop_rule', 'upper limit']))\n",
    "for s in [0.001, 0.01, 0.03, 0.05, 0.1]:\n",
    "    temp_data = [fbtk.data_gen(100000, s) for _ in range(100)]\n",
    "    for i in [True]:\n",
    "        for j in [3]: # stop_rule\n",
    "            for k in [32, 64, 1000000]: # batch_upperlimit\n",
    "                batch_size = fbtk.one_batch_test_int_solver(s, 0.15, 0.01, batch_limit= k)\n",
    "                kwargs = {'stop_rule': j, 'p': s, 'batch_size': batch_size,\n",
    "                'typeII_error': 0.15, 'typeI_error': 0.01, 'repeat': 3,\n",
    "                'prob_threshold': 1, 'seq': i, 'batch_limit': k}\n",
    "                test = node_summary(temp_data, fbtk.seq_test_with_node,j,**kwargs)\n",
    "                test['p'] = s\n",
    "                test['stop_rule'] = 3\n",
    "                test['upper limit'] = k\n",
    "                result = pd.concat([result, test])\n",
    "\n",
    "time_end = time.time()\n",
    "print(time_end - time_start)"
   ]
  },
  {
   "cell_type": "code",
   "execution_count": 37,
   "metadata": {},
   "outputs": [],
   "source": [
    "result.to_csv('node_test_without_threshold.csv')"
   ]
  },
  {
   "cell_type": "code",
   "execution_count": 224,
   "metadata": {},
   "outputs": [],
   "source": [
    "temp = np.zeros(21)\n",
    "\n",
    "for item in test:\n",
    "    if item in a:\n",
    "        idx = a.index(item)\n",
    "        temp[idx] = test[item]\n",
    "    else:\n",
    "        temp[-1] += test[item]\n",
    "df.loc[len(df)] = temp"
   ]
  },
  {
   "cell_type": "code",
   "execution_count": 225,
   "metadata": {},
   "outputs": [
    {
     "output_type": "execute_result",
     "data": {
      "text/plain": [
       "       +++     ---    ++-+    +-++   +---    -+++   -+--   --+-   ++--+  \\\n",
       "0  59840.0  3392.0  8416.0  8992.0  416.0  8480.0  128.0  480.0  1152.0   \n",
       "1  59840.0  3392.0  8416.0  8992.0  416.0  8480.0  128.0  480.0  1152.0   \n",
       "\n",
       "   ++---  ...  +-+--   +--++  +--+-   -++-+  -++--   -+-++  -+-+-   --+++  \\\n",
       "0  288.0  ...  192.0  1312.0  192.0  1376.0  160.0  1472.0  320.0  1856.0   \n",
       "1  288.0  ...  192.0  1312.0  192.0  1376.0  160.0  1472.0  320.0  1856.0   \n",
       "\n",
       "   --++-  other  \n",
       "0  288.0    0.0  \n",
       "1  288.0    0.0  \n",
       "\n",
       "[2 rows x 21 columns]"
      ],
      "text/html": "<div>\n<style scoped>\n    .dataframe tbody tr th:only-of-type {\n        vertical-align: middle;\n    }\n\n    .dataframe tbody tr th {\n        vertical-align: top;\n    }\n\n    .dataframe thead th {\n        text-align: right;\n    }\n</style>\n<table border=\"1\" class=\"dataframe\">\n  <thead>\n    <tr style=\"text-align: right;\">\n      <th></th>\n      <th>+++</th>\n      <th>---</th>\n      <th>++-+</th>\n      <th>+-++</th>\n      <th>+---</th>\n      <th>-+++</th>\n      <th>-+--</th>\n      <th>--+-</th>\n      <th>++--+</th>\n      <th>++---</th>\n      <th>...</th>\n      <th>+-+--</th>\n      <th>+--++</th>\n      <th>+--+-</th>\n      <th>-++-+</th>\n      <th>-++--</th>\n      <th>-+-++</th>\n      <th>-+-+-</th>\n      <th>--+++</th>\n      <th>--++-</th>\n      <th>other</th>\n    </tr>\n  </thead>\n  <tbody>\n    <tr>\n      <th>0</th>\n      <td>59840.0</td>\n      <td>3392.0</td>\n      <td>8416.0</td>\n      <td>8992.0</td>\n      <td>416.0</td>\n      <td>8480.0</td>\n      <td>128.0</td>\n      <td>480.0</td>\n      <td>1152.0</td>\n      <td>288.0</td>\n      <td>...</td>\n      <td>192.0</td>\n      <td>1312.0</td>\n      <td>192.0</td>\n      <td>1376.0</td>\n      <td>160.0</td>\n      <td>1472.0</td>\n      <td>320.0</td>\n      <td>1856.0</td>\n      <td>288.0</td>\n      <td>0.0</td>\n    </tr>\n    <tr>\n      <th>1</th>\n      <td>59840.0</td>\n      <td>3392.0</td>\n      <td>8416.0</td>\n      <td>8992.0</td>\n      <td>416.0</td>\n      <td>8480.0</td>\n      <td>128.0</td>\n      <td>480.0</td>\n      <td>1152.0</td>\n      <td>288.0</td>\n      <td>...</td>\n      <td>192.0</td>\n      <td>1312.0</td>\n      <td>192.0</td>\n      <td>1376.0</td>\n      <td>160.0</td>\n      <td>1472.0</td>\n      <td>320.0</td>\n      <td>1856.0</td>\n      <td>288.0</td>\n      <td>0.0</td>\n    </tr>\n  </tbody>\n</table>\n<p>2 rows × 21 columns</p>\n</div>"
     },
     "metadata": {},
     "execution_count": 225
    }
   ],
   "source": [
    "df"
   ]
  },
  {
   "cell_type": "code",
   "execution_count": 223,
   "metadata": {},
   "outputs": [
    {
     "output_type": "execute_result",
     "data": {
      "text/plain": [
       "       +++     ---    ++-+    +-++   +---    -+++   -+--   --+-   ++--+  \\\n",
       "0  59840.0  3392.0  8416.0  8992.0  416.0  8480.0  128.0  480.0  1152.0   \n",
       "\n",
       "   ++---  ...  +-+--   +--++  +--+-   -++-+  -++--   -+-++  -+-+-   --+++  \\\n",
       "0  288.0  ...  192.0  1312.0  192.0  1376.0  160.0  1472.0  320.0  1856.0   \n",
       "\n",
       "   --++-  other  \n",
       "0  288.0    0.0  \n",
       "\n",
       "[1 rows x 21 columns]"
      ],
      "text/html": "<div>\n<style scoped>\n    .dataframe tbody tr th:only-of-type {\n        vertical-align: middle;\n    }\n\n    .dataframe tbody tr th {\n        vertical-align: top;\n    }\n\n    .dataframe thead th {\n        text-align: right;\n    }\n</style>\n<table border=\"1\" class=\"dataframe\">\n  <thead>\n    <tr style=\"text-align: right;\">\n      <th></th>\n      <th>+++</th>\n      <th>---</th>\n      <th>++-+</th>\n      <th>+-++</th>\n      <th>+---</th>\n      <th>-+++</th>\n      <th>-+--</th>\n      <th>--+-</th>\n      <th>++--+</th>\n      <th>++---</th>\n      <th>...</th>\n      <th>+-+--</th>\n      <th>+--++</th>\n      <th>+--+-</th>\n      <th>-++-+</th>\n      <th>-++--</th>\n      <th>-+-++</th>\n      <th>-+-+-</th>\n      <th>--+++</th>\n      <th>--++-</th>\n      <th>other</th>\n    </tr>\n  </thead>\n  <tbody>\n    <tr>\n      <th>0</th>\n      <td>59840.0</td>\n      <td>3392.0</td>\n      <td>8416.0</td>\n      <td>8992.0</td>\n      <td>416.0</td>\n      <td>8480.0</td>\n      <td>128.0</td>\n      <td>480.0</td>\n      <td>1152.0</td>\n      <td>288.0</td>\n      <td>...</td>\n      <td>192.0</td>\n      <td>1312.0</td>\n      <td>192.0</td>\n      <td>1376.0</td>\n      <td>160.0</td>\n      <td>1472.0</td>\n      <td>320.0</td>\n      <td>1856.0</td>\n      <td>288.0</td>\n      <td>0.0</td>\n    </tr>\n  </tbody>\n</table>\n<p>1 rows × 21 columns</p>\n</div>"
     },
     "metadata": {},
     "execution_count": 223
    }
   ],
   "source": [
    "df"
   ]
  },
  {
   "cell_type": "code",
   "execution_count": 154,
   "metadata": {},
   "outputs": [
    {
     "output_type": "execute_result",
     "data": {
      "text/plain": [
       "++-+      8416\n",
       "+++      59840\n",
       "--+++     1856\n",
       "+-++      8992\n",
       "-+-+-      320\n",
       "---       3392\n",
       "++--+     1152\n",
       "-+++      8480\n",
       "+---       416\n",
       "+--+-      192\n",
       "-++-+     1376\n",
       "--++-      288\n",
       "-+-++     1472\n",
       "+-+-+     1248\n",
       "+--++     1312\n",
       "-+--       128\n",
       "+-+--      192\n",
       "--+-       480\n",
       "-++--      160\n",
       "++---      288\n",
       "dtype: int64"
      ]
     },
     "metadata": {},
     "execution_count": 154
    }
   ],
   "source": [
    "pd.Series(collections.Counter(node))"
   ]
  },
  {
   "cell_type": "code",
   "execution_count": 135,
   "metadata": {},
   "outputs": [],
   "source": [
    "import collections"
   ]
  },
  {
   "cell_type": "code",
   "execution_count": null,
   "metadata": {},
   "outputs": [],
   "source": [
    "collections.Counter(node)"
   ]
  },
  {
   "cell_type": "code",
   "execution_count": null,
   "metadata": {},
   "outputs": [],
   "source": [
    "time_start = time.time()\n",
    "np.random.seed(0)\n",
    "node_name,_,_ = fbtk.name_fun(3)\n",
    "result = pd.DataFrame([], columns=node_name.extend(['p', 'stop_rule', 'upper limit']))\n",
    "for s in [0.001, 0.01, 0.03, 0.05, 0.1]:\n",
    "    temp_data = [fbtk.data_gen(100000, s) for _ in range(100)]\n",
    "    for i in [True]:\n",
    "        for j in [3]: # stop_rule\n",
    "            for k in [32, 64, 1000000]: # batch_upperlimit\n",
    "                batch_size = fbtk.one_batch_test_int_solver(s, 0.15, 0.01, batch_limit= k)\n",
    "                kwargs = {'stop_rule': j, 'p': s, 'batch_size': batch_size,\n",
    "                'typeII_error': 0.15, 'typeI_error': 0.01, 'repeat': 3,\n",
    "                'prob_threshold': 1, 'seq': i, 'batch_limit': k}\n",
    "                test = node_summary(temp_data, fbtk.seq_test_with_node,j,**kwargs)\n",
    "                test['p'] = s\n",
    "                test['stop_rule'] = 3\n",
    "                test['upper limit'] = k\n",
    "                result = pd.concat([result, test])\n",
    "\n",
    "time_end = time.time()\n",
    "print(time_end - time_start)"
   ]
  },
  {
   "cell_type": "code",
   "execution_count": 2,
   "metadata": {},
   "outputs": [
    {
     "output_type": "stream",
     "name": "stderr",
     "text": [
      "/home/hajiang/Desktop/batch_testing/fast_btk.py:381: NumbaWarning: \u001b[1m\n",
      "Compilation is falling back to object mode WITH looplifting enabled because Function \"data_gen\" failed type inference due to: \u001b[1m\u001b[1m\u001b[1mNo implementation of function Function(<built-in function zeros>) found for signature:\n",
      " \n",
      " >>> zeros(Tuple(int64, Literal[int](2)), dtype=Function(<class 'int'>))\n",
      " \n",
      "There are 2 candidate implementations:\n",
      "\u001b[1m  - Of which 2 did not match due to:\n",
      "  Overload of function 'zeros': File: numba/core/typing/npydecl.py: Line 507.\n",
      "    With argument(s): '(UniTuple(int64 x 2), dtype=Function(<class 'int'>))':\u001b[0m\n",
      "\u001b[1m   No match.\u001b[0m\n",
      "\u001b[0m\n",
      "\u001b[0m\u001b[1mDuring: resolving callee type: Function(<built-in function zeros>)\u001b[0m\n",
      "\u001b[0m\u001b[1mDuring: typing of call at /home/hajiang/Desktop/batch_testing/fast_btk.py (396)\n",
      "\u001b[0m\n",
      "\u001b[1m\n",
      "File \"fast_btk.py\", line 396:\u001b[0m\n",
      "\u001b[1mdef data_gen(size, p):\n",
      "    <source elided>\n",
      "    random_table = np.random.binomial(size = size, p = p, n = 1)\n",
      "\u001b[1m    test_array = np.zeros((size, 2), dtype = int)\n",
      "\u001b[0m    \u001b[1m^\u001b[0m\u001b[0m\n",
      "\u001b[0m\n",
      "  @jit(parallel = True)\n",
      "/home/hajiang/Desktop/batch_testing/fast_btk.py:381: NumbaWarning: \u001b[1m\n",
      "Compilation is falling back to object mode WITHOUT looplifting enabled because Function \"data_gen\" failed type inference due to: \u001b[1m\u001b[1mCannot determine Numba type of <class 'numba.core.dispatcher.LiftedLoop'>\u001b[0m\n",
      "\u001b[1m\n",
      "File \"fast_btk.py\", line 397:\u001b[0m\n",
      "\u001b[1mdef data_gen(size, p):\n",
      "    <source elided>\n",
      "    test_array = np.zeros((size, 2), dtype = int)\n",
      "\u001b[1m    for i in range(size):\n",
      "\u001b[0m    \u001b[1m^\u001b[0m\u001b[0m\n",
      "\u001b[0m\u001b[0m\n",
      "  @jit(parallel = True)\n",
      "/home/hajiang/.local/lib/python3.8/site-packages/numba/core/object_mode_passes.py:151: NumbaWarning: \u001b[1mFunction \"data_gen\" was compiled in object mode without forceobj=True, but has lifted loops.\n",
      "\u001b[1m\n",
      "File \"fast_btk.py\", line 395:\u001b[0m\n",
      "\u001b[1mdef data_gen(size, p):\n",
      "    <source elided>\n",
      "    #print(np.random.get_state()[1][0])\n",
      "\u001b[1m    random_table = np.random.binomial(size = size, p = p, n = 1)\n",
      "\u001b[0m    \u001b[1m^\u001b[0m\u001b[0m\n",
      "\u001b[0m\n",
      "  warnings.warn(errors.NumbaWarning(warn_msg,\n",
      "/home/hajiang/.local/lib/python3.8/site-packages/numba/core/object_mode_passes.py:161: NumbaDeprecationWarning: \u001b[1m\n",
      "Fall-back from the nopython compilation path to the object mode compilation path has been detected, this is deprecated behaviour.\n",
      "\n",
      "For more information visit https://numba.pydata.org/numba-doc/latest/reference/deprecation.html#deprecation-of-object-mode-fall-back-behaviour-when-using-jit\n",
      "\u001b[1m\n",
      "File \"fast_btk.py\", line 395:\u001b[0m\n",
      "\u001b[1mdef data_gen(size, p):\n",
      "    <source elided>\n",
      "    #print(np.random.get_state()[1][0])\n",
      "\u001b[1m    random_table = np.random.binomial(size = size, p = p, n = 1)\n",
      "\u001b[0m    \u001b[1m^\u001b[0m\u001b[0m\n",
      "\u001b[0m\n",
      "  warnings.warn(errors.NumbaDeprecationWarning(msg,\n",
      "/home/hajiang/.local/lib/python3.8/site-packages/numba/core/typed_passes.py:315: NumbaPerformanceWarning: \u001b[1m\n",
      "The keyword argument 'parallel=True' was specified but no transformation for parallel execution was possible.\n",
      "\n",
      "To find out why, try turning on parallel diagnostics, see https://numba.pydata.org/numba-doc/latest/user/parallel.html#diagnostics for help.\n",
      "\u001b[1m\n",
      "File \"fast_btk.py\", line 397:\u001b[0m\n",
      "\u001b[1mdef data_gen(size, p):\n",
      "    <source elided>\n",
      "    test_array = np.zeros((size, 2), dtype = int)\n",
      "\u001b[1m    for i in range(size):\n",
      "\u001b[0m    \u001b[1m^\u001b[0m\u001b[0m\n",
      "\u001b[0m\n",
      "  warnings.warn(errors.NumbaPerformanceWarning(msg,\n",
      "/home/hajiang/Desktop/batch_testing/fast_btk.py:10: NumbaWarning: \u001b[1m\n",
      "Compilation is falling back to object mode WITH looplifting enabled because Function \"conventional_test\" failed type inference due to: \u001b[1m\u001b[1m\u001b[1mNo implementation of function Function(<built-in function zeros>) found for signature:\n",
      " \n",
      " >>> zeros(UniTuple(int64 x 2), dtype=Function(<class 'int'>))\n",
      " \n",
      "There are 2 candidate implementations:\n",
      "\u001b[1m      - Of which 2 did not match due to:\n",
      "      Overload of function 'zeros': File: numba/core/typing/npydecl.py: Line 507.\n",
      "        With argument(s): '(UniTuple(int64 x 2), dtype=Function(<class 'int'>))':\u001b[0m\n",
      "\u001b[1m       No match.\u001b[0m\n",
      "\u001b[0m\n",
      "\u001b[0m\u001b[1mDuring: resolving callee type: Function(<built-in function zeros>)\u001b[0m\n",
      "\u001b[0m\u001b[1mDuring: typing of call at /home/hajiang/Desktop/batch_testing/fast_btk.py (40)\n",
      "\u001b[0m\n",
      "\u001b[1m\n",
      "File \"fast_btk.py\", line 40:\u001b[0m\n",
      "\u001b[1mdef conventional_test(subject_array, typeII_error, typeI_error, repeat = 1,\n",
      "    <source elided>\n",
      "        \n",
      "\u001b[1m        test_result = np.zeros(subject_array.shape, dtype = int)\n",
      "\u001b[0m        \u001b[1m^\u001b[0m\u001b[0m\n",
      "\u001b[0m\n",
      "  @jit(parallel = True)\n",
      "/home/hajiang/Desktop/batch_testing/fast_btk.py:10: NumbaWarning: \u001b[1m\n",
      "Compilation is falling back to object mode WITHOUT looplifting enabled because Function \"conventional_test\" failed type inference due to: \u001b[1m\u001b[1mCannot determine Numba type of <class 'numba.core.dispatcher.LiftedLoop'>\u001b[0m\n",
      "\u001b[1m\n",
      "File \"fast_btk.py\", line 38:\u001b[0m\n",
      "\u001b[1mdef conventional_test(subject_array, typeII_error, typeI_error, repeat = 1,\n",
      "    <source elided>\n",
      "    if seq == True:\n",
      "\u001b[1m        consum = 0\n",
      "\u001b[0m        \u001b[1m^\u001b[0m\u001b[0m\n",
      "\u001b[0m\u001b[0m\n",
      "  @jit(parallel = True)\n",
      "/home/hajiang/.local/lib/python3.8/site-packages/numba/core/object_mode_passes.py:151: NumbaWarning: \u001b[1mFunction \"conventional_test\" was compiled in object mode without forceobj=True, but has lifted loops.\n",
      "\u001b[1m\n",
      "File \"fast_btk.py\", line 37:\u001b[0m\n",
      "\u001b[1mdef conventional_test(subject_array, typeII_error, typeI_error, repeat = 1,\n",
      "    <source elided>\n",
      "    # Sequential Testing\n",
      "\u001b[1m    if seq == True:\n",
      "\u001b[0m    \u001b[1m^\u001b[0m\u001b[0m\n",
      "\u001b[0m\n",
      "  warnings.warn(errors.NumbaWarning(warn_msg,\n",
      "/home/hajiang/.local/lib/python3.8/site-packages/numba/core/object_mode_passes.py:161: NumbaDeprecationWarning: \u001b[1m\n",
      "Fall-back from the nopython compilation path to the object mode compilation path has been detected, this is deprecated behaviour.\n",
      "\n",
      "For more information visit https://numba.pydata.org/numba-doc/latest/reference/deprecation.html#deprecation-of-object-mode-fall-back-behaviour-when-using-jit\n",
      "\u001b[1m\n",
      "File \"fast_btk.py\", line 37:\u001b[0m\n",
      "\u001b[1mdef conventional_test(subject_array, typeII_error, typeI_error, repeat = 1,\n",
      "    <source elided>\n",
      "    # Sequential Testing\n",
      "\u001b[1m    if seq == True:\n",
      "\u001b[0m    \u001b[1m^\u001b[0m\u001b[0m\n",
      "\u001b[0m\n",
      "  warnings.warn(errors.NumbaDeprecationWarning(msg,\n",
      "/home/hajiang/Desktop/batch_testing/fast_btk.py:10: NumbaWarning: \u001b[1m\n",
      "Compilation is falling back to object mode WITHOUT looplifting enabled because Function \"conventional_test\" failed type inference due to: \u001b[1m\u001b[1m\u001b[1mNo implementation of function Function(<built-in function zeros>) found for signature:\n",
      " \n",
      " >>> zeros(UniTuple(int64 x 2), dtype=Function(<class 'int'>))\n",
      " \n",
      "There are 2 candidate implementations:\n",
      "\u001b[1m      - Of which 2 did not match due to:\n",
      "      Overload of function 'zeros': File: numba/core/typing/npydecl.py: Line 507.\n",
      "        With argument(s): '(UniTuple(int64 x 2), dtype=Function(<class 'int'>))':\u001b[0m\n",
      "\u001b[1m       No match.\u001b[0m\n",
      "\u001b[0m\n",
      "\u001b[0m\u001b[1mDuring: resolving callee type: Function(<built-in function zeros>)\u001b[0m\n",
      "\u001b[0m\u001b[1mDuring: typing of call at /home/hajiang/Desktop/batch_testing/fast_btk.py (40)\n",
      "\u001b[0m\n",
      "\u001b[1m\n",
      "File \"fast_btk.py\", line 40:\u001b[0m\n",
      "\u001b[1mdef conventional_test(subject_array, typeII_error, typeI_error, repeat = 1,\n",
      "    <source elided>\n",
      "        \n",
      "\u001b[1m        test_result = np.zeros(subject_array.shape, dtype = int)\n",
      "\u001b[0m        \u001b[1m^\u001b[0m\u001b[0m\n",
      "\u001b[0m\n",
      "  @jit(parallel = True)\n",
      "/home/hajiang/.local/lib/python3.8/site-packages/numba/core/object_mode_passes.py:151: NumbaWarning: \u001b[1mFunction \"conventional_test\" was compiled in object mode without forceobj=True.\n",
      "\u001b[1m\n",
      "File \"fast_btk.py\", line 38:\u001b[0m\n",
      "\u001b[1mdef conventional_test(subject_array, typeII_error, typeI_error, repeat = 1,\n",
      "    <source elided>\n",
      "    if seq == True:\n",
      "\u001b[1m        consum = 0\n",
      "\u001b[0m        \u001b[1m^\u001b[0m\u001b[0m\n",
      "\u001b[0m\n",
      "  warnings.warn(errors.NumbaWarning(warn_msg,\n",
      "/home/hajiang/.local/lib/python3.8/site-packages/numba/core/object_mode_passes.py:161: NumbaDeprecationWarning: \u001b[1m\n",
      "Fall-back from the nopython compilation path to the object mode compilation path has been detected, this is deprecated behaviour.\n",
      "\n",
      "For more information visit https://numba.pydata.org/numba-doc/latest/reference/deprecation.html#deprecation-of-object-mode-fall-back-behaviour-when-using-jit\n",
      "\u001b[1m\n",
      "File \"fast_btk.py\", line 38:\u001b[0m\n",
      "\u001b[1mdef conventional_test(subject_array, typeII_error, typeI_error, repeat = 1,\n",
      "    <source elided>\n",
      "    if seq == True:\n",
      "\u001b[1m        consum = 0\n",
      "\u001b[0m        \u001b[1m^\u001b[0m\u001b[0m\n",
      "\u001b[0m\n",
      "  warnings.warn(errors.NumbaDeprecationWarning(msg,\n",
      "/home/hajiang/.local/lib/python3.8/site-packages/scipy/optimize/minpack.py:175: RuntimeWarning: The iteration is not making good progress, as measured by the \n",
      "  improvement from the last ten iterations.\n",
      "  warnings.warn(msg, RuntimeWarning)\n",
      "/home/hajiang/.local/lib/python3.8/site-packages/scipy/optimize/minpack.py:175: RuntimeWarning: The iteration is not making good progress, as measured by the \n",
      "  improvement from the last five Jacobian evaluations.\n",
      "  warnings.warn(msg, RuntimeWarning)\n",
      "running time: 505.6608896255493 s\n"
     ]
    }
   ],
   "source": [
    "# Appendix f\n",
    "time_start = time.time()\n",
    "np.random.seed(0)\n",
    "df = pd.DataFrame([], columns = ['Infection_rate', 'Batch_upper_limit', 'Stop_rule', 'Repeat', 'Prob_threshold', 'Acc', 'Acc_SD', 'Sens', 'Sens_SD', 'Spec','Spec_SD','PPV', 'PPV_SD',\n",
    "'NPV', 'NPV_SD', 'Test_consum', 'Test_consum_SD', 'Ind_consum', 'Ind_consum_SD', 'Batch_consum','Batch_consum_SD'])\n",
    "for prob in [0.001, 0.01, 0.03, 0.05, 0.10]:\n",
    "    temp_data = [fbtk.data_gen(100000, prob) for _ in range(100)]\n",
    "    for i in [32, 64, 100000]:\n",
    "        for j in [3]: # stop_rule\n",
    "            for k in [3]: # repeat\n",
    "                batch_size = fbtk.one_batch_test_int_solver(prob, 0.15, 0.01, batch_limit = i)\n",
    "                kwargs = {'stop_rule': j, 'p': prob, 'batch_size': batch_size,\n",
    "                'typeII_error': 0.15, 'typeI_error': 0.01, 'repeat': k,\n",
    "                'prob_threshold': 0.3, 'seq': True, 'batch_limit': i}\n",
    "                test_1 = fbtk.test_result(temp_data, fbtk.seq_test, **kwargs)\n",
    "                temp_mean = test_1.mean()\n",
    "                temp_std = test_1.std()\n",
    "                temp = [kwargs['p'], kwargs['batch_limit'], kwargs['stop_rule'], kwargs['repeat'], kwargs['prob_threshold'],temp_mean['acc'], temp_std['acc'], temp_mean['sens'], temp_std['sens'], temp_mean['spec'], temp_std['spec'], temp_mean['PPV'], temp_std['PPV'], temp_mean['NPV'], temp_std['NPV'], temp_mean['test_consum'], temp_std['test_consum'], temp_mean['ind_consum'], temp_std['ind_consum'], temp_mean['batch_consum'], temp_std['batch_consum']]\n",
    "                temp_df = pd.DataFrame(temp)\n",
    "                temp_df = temp_df.T\n",
    "                temp_df.columns = ['Infection_rate', 'Batch_upper_limit', 'Stop_rule', 'Repeat','Prob_threshold', 'Acc', 'Acc_SD', 'Sens', 'Sens_SD', 'Spec','Spec_SD','PPV', 'PPV_SD',\n",
    "    'NPV', 'NPV_SD', 'Test_consum', 'Test_consum_SD', 'Ind_consum', 'Ind_consum_SD', 'Batch_consum','Batch_consum_SD']\n",
    "                df = pd.concat([df, temp_df])\n",
    "            \n",
    "time_end = time.time()\n",
    "print('running time:', time_end - time_start, 's')"
   ]
  },
  {
   "cell_type": "code",
   "execution_count": 4,
   "metadata": {},
   "outputs": [],
   "source": [
    "df.to_csv('result_batch_limit.csv')"
   ]
  },
  {
   "cell_type": "code",
   "execution_count": 11,
   "metadata": {},
   "outputs": [
    {
     "output_type": "execute_result",
     "data": {
      "text/plain": [
       "6"
      ]
     },
     "metadata": {},
     "execution_count": 11
    }
   ],
   "source": [
    "fbtk.one_batch_test_int_solver(0.05, 0.15, 0.01, batch_limit = 100000)"
   ]
  },
  {
   "cell_type": "code",
   "execution_count": 9,
   "metadata": {},
   "outputs": [
    {
     "output_type": "stream",
     "text": [
      "\u001b[0;31mSignature:\u001b[0m\n",
      "\u001b[0mfbtk\u001b[0m\u001b[0;34m.\u001b[0m\u001b[0mone_batch_test_int_solver\u001b[0m\u001b[0;34m(\u001b[0m\u001b[0;34m\u001b[0m\n",
      "\u001b[0;34m\u001b[0m    \u001b[0mprevalence_rate\u001b[0m\u001b[0;34m,\u001b[0m\u001b[0;34m\u001b[0m\n",
      "\u001b[0;34m\u001b[0m    \u001b[0mtypeII_error\u001b[0m\u001b[0;34m,\u001b[0m\u001b[0;34m\u001b[0m\n",
      "\u001b[0;34m\u001b[0m    \u001b[0mtypeI_error\u001b[0m\u001b[0;34m,\u001b[0m\u001b[0;34m\u001b[0m\n",
      "\u001b[0;34m\u001b[0m    \u001b[0mbatch_limit\u001b[0m\u001b[0;34m,\u001b[0m\u001b[0;34m\u001b[0m\n",
      "\u001b[0;34m\u001b[0m    \u001b[0mn_initial_guess\u001b[0m\u001b[0;34m=\u001b[0m\u001b[0;36m2\u001b[0m\u001b[0;34m,\u001b[0m\u001b[0;34m\u001b[0m\n",
      "\u001b[0;34m\u001b[0m\u001b[0;34m)\u001b[0m\u001b[0;34m\u001b[0m\u001b[0;34m\u001b[0m\u001b[0m\n",
      "\u001b[0;31mDocstring:\u001b[0m\n",
      "A function gives (int) the best batch size for one batch test given the infection rate\n",
      "\n",
      "Inputs:\n",
      "    prevalence_rate(float): infection rate\n",
      "    n_initial_guess(float): the initial guess \n",
      "    typeII_error(float): the prob of type II error\n",
      "    typeI_error(float):  the prob of type I error\n",
      "    n_initial_guess:\n",
      "    batch_limit (int): the upper limit of batch size\n",
      "\n",
      "Output:\n",
      "    (int): the optimal batch size\n",
      "\u001b[0;31mFile:\u001b[0m      ~/Desktop/batch_testing/fast_btk.py\n",
      "\u001b[0;31mType:\u001b[0m      function\n"
     ],
     "name": "stdout"
    }
   ],
   "source": [
    "?fbtk.one_batch_test_int_solver"
   ]
  },
  {
   "cell_type": "code",
   "execution_count": 12,
   "metadata": {},
   "outputs": [],
   "source": [
    "B = np.array([[2,-2,0],[1, 0, -1],[0, 1, -1]])"
   ]
  },
  {
   "cell_type": "code",
   "execution_count": 14,
   "metadata": {},
   "outputs": [],
   "source": [
    "A = [[2, 4, 6, 8],[1, 2, 3, 4], [3, 5, 7, 9]]"
   ]
  },
  {
   "cell_type": "code",
   "execution_count": 18,
   "metadata": {},
   "outputs": [
    {
     "output_type": "execute_result",
     "data": {
      "text/plain": [
       "array([[ 4],\n",
       "       [-1],\n",
       "       [-3]])"
      ]
     },
     "metadata": {},
     "execution_count": 18
    }
   ],
   "source": [
    "np.matmul(np.matmul(B, A) , np.array([[1],[-1], [1], [0]]))"
   ]
  },
  {
   "cell_type": "code",
   "execution_count": null,
   "metadata": {},
   "outputs": [],
   "source": []
  }
 ]
}