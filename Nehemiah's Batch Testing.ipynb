{
 "cells": [
  {
   "cell_type": "markdown",
   "id": "e4503e29",
   "metadata": {},
   "source": [
    "100 Repetitions\n",
    "Population: 100,000\n",
    "Sensitivity: = 0.85\n",
    "Specificity = 0.99\n",
    "Stop Rule = 3\n",
    "Sequential Testing = 3 times\n"
   ]
  },
  {
   "cell_type": "markdown",
   "id": "5478559e",
   "metadata": {},
   "source": [
    "Accuracy\n",
    "Sensitivity\n",
    "Specificity\n",
    "number of batch testings\n",
    "number of total testings"
   ]
  },
  {
   "cell_type": "code",
   "execution_count": 1,
   "id": "48467d2f",
   "metadata": {},
   "outputs": [],
   "source": [
    "import Nehemiah_Batch_Testing as BTK #BTK is batch testing kit\n",
    "import numpy as np"
   ]
  },
  {
   "cell_type": "code",
   "execution_count": 2,
   "id": "1627bc85",
   "metadata": {},
   "outputs": [
    {
     "data": {
      "text/plain": [
       "0.01"
      ]
     },
     "execution_count": 2,
     "metadata": {},
     "output_type": "execute_result"
    }
   ],
   "source": [
    "Constants = BTK.setupConstants(typeIIError = 0.15, typeIError = 0.01, batchLimit = 32)\n",
    "Constants.typeIError"
   ]
  },
  {
   "cell_type": "code",
   "execution_count": 3,
   "id": "6a11cc94",
   "metadata": {},
   "outputs": [
    {
     "name": "stdout",
     "output_type": "stream",
     "text": [
      "12\n",
      "[{'data': array([[ 0,  0],\n",
      "       [ 1,  0],\n",
      "       [ 2,  0],\n",
      "       [ 3,  0],\n",
      "       [ 4,  0],\n",
      "       [ 5,  1],\n",
      "       [ 6,  0],\n",
      "       [ 7,  1],\n",
      "       [ 8,  0],\n",
      "       [ 9,  0],\n",
      "       [10,  0],\n",
      "       [11,  0],\n",
      "       [12,  0],\n",
      "       [13,  1],\n",
      "       [14,  0],\n",
      "       [15,  0],\n",
      "       [16,  0],\n",
      "       [17,  1],\n",
      "       [18,  0],\n",
      "       [19,  1],\n",
      "       [20,  0],\n",
      "       [21,  1],\n",
      "       [22,  0],\n",
      "       [23,  0],\n",
      "       [24,  1],\n",
      "       [25,  0],\n",
      "       [26,  0],\n",
      "       [27,  1],\n",
      "       [28,  0],\n",
      "       [29,  0],\n",
      "       [30,  1],\n",
      "       [31,  0],\n",
      "       [32,  0],\n",
      "       [33,  0],\n",
      "       [34,  0],\n",
      "       [35,  0],\n",
      "       [36,  0],\n",
      "       [37,  0],\n",
      "       [38,  1],\n",
      "       [39,  0],\n",
      "       [40,  1],\n",
      "       [41,  0],\n",
      "       [42,  0],\n",
      "       [43,  0],\n",
      "       [44,  0],\n",
      "       [45,  0],\n",
      "       [46,  1],\n",
      "       [47,  0],\n",
      "       [48,  0],\n",
      "       [49,  0],\n",
      "       [50,  0],\n",
      "       [51,  0],\n",
      "       [52,  0],\n",
      "       [53,  0],\n",
      "       [54,  0],\n",
      "       [55,  0],\n",
      "       [56,  0],\n",
      "       [57,  0],\n",
      "       [58,  0],\n",
      "       [59,  0],\n",
      "       [60,  0],\n",
      "       [61,  0],\n",
      "       [62,  1],\n",
      "       [63,  0],\n",
      "       [64,  0],\n",
      "       [65,  0],\n",
      "       [66,  0],\n",
      "       [67,  0],\n",
      "       [68,  0],\n",
      "       [69,  0],\n",
      "       [70,  0],\n",
      "       [71,  0],\n",
      "       [72,  0],\n",
      "       [73,  0],\n",
      "       [74,  0],\n",
      "       [75,  0],\n",
      "       [76,  0],\n",
      "       [77,  0],\n",
      "       [78,  0],\n",
      "       [79,  0],\n",
      "       [80,  0],\n",
      "       [81,  0],\n",
      "       [82,  0],\n",
      "       [83,  0],\n",
      "       [84,  0],\n",
      "       [85,  0],\n",
      "       [86,  0],\n",
      "       [87,  0],\n",
      "       [88,  0],\n",
      "       [89,  0],\n",
      "       [90,  0],\n",
      "       [91,  1],\n",
      "       [92,  0],\n",
      "       [93,  0],\n",
      "       [94,  0],\n",
      "       [95,  0],\n",
      "       [96,  0],\n",
      "       [97,  1],\n",
      "       [98,  0],\n",
      "       [99,  0]], dtype=int64), 'NB_Num': 0, 'PB_Num': 0, 'p': 0.1, 'batch_size': 10}]\n"
     ]
    }
   ],
   "source": [
    "print(BTK.optimalBatchSize(0.01, Constants))\n",
    "temp_list = []\n",
    "subject_array = BTK.setupPopulation(populationSize=100, p=0.1)\n",
    "batch_size = 10\n",
    "temp = {'data': subject_array,\n",
    "        'NB_Num': 0,\n",
    "        'PB_Num': 0,\n",
    "        'p': 0.1,\n",
    "        'batch_size': batch_size}\n",
    "temp_list.append(temp)\n",
    "print(temp_list)\n"
   ]
  },
  {
   "cell_type": "code",
   "execution_count": 4,
   "id": "9f3d8d36",
   "metadata": {},
   "outputs": [
    {
     "data": {
      "text/plain": [
       "0.001976327594960294"
      ]
     },
     "execution_count": 4,
     "metadata": {},
     "output_type": "execute_result"
    }
   ],
   "source": [
    "BTK.infectionRateNegativeBatch(p = 0.01, batchSize=32,Constants=Constants)"
   ]
  },
  {
   "cell_type": "code",
   "execution_count": 5,
   "id": "f172350b",
   "metadata": {},
   "outputs": [],
   "source": [
    "batchSize = BTK.optimalBatchSize(p = 0.01, Constants = Constants)"
   ]
  },
  {
   "cell_type": "code",
   "execution_count": 6,
   "id": "f99a98c8",
   "metadata": {},
   "outputs": [
    {
     "name": "stdout",
     "output_type": "stream",
     "text": [
      "[7.28084073e-01 6.81814003e-01 9.05892657e-01 5.15472738e-01\n",
      " 2.88317432e-01 5.75406014e-01 8.36762958e-01 9.52378666e-01\n",
      " 5.69732115e-01 7.45554533e-01 9.06621206e-01 2.50713432e-01\n",
      " 9.23862961e-01 9.19936933e-01 1.83339215e-01 6.73469912e-01\n",
      " 1.88613294e-01 1.87308569e-01 5.95060456e-01 2.13624765e-01\n",
      " 9.47478014e-01 7.06272056e-02 7.21664960e-01 8.08501937e-01\n",
      " 9.22985114e-01 1.28375894e-01 3.24575984e-01 6.10919977e-02\n",
      " 4.38467978e-03 2.51643943e-01 2.85584502e-01 6.66624143e-01\n",
      " 9.08707282e-01 3.27394791e-01 8.50557819e-02 3.68275348e-02\n",
      " 3.05108223e-01 6.10244173e-01 9.04769176e-01 3.94798196e-01\n",
      " 2.58368159e-01 1.38836947e-01 4.48534352e-01 2.33873587e-01\n",
      " 8.19030351e-01 3.57053460e-01 4.94893776e-01 5.26221288e-01\n",
      " 6.27562944e-01 1.92902174e-01 4.37511298e-01 5.62143730e-01\n",
      " 9.54711974e-01 9.76123233e-01 4.31498989e-01 7.08541522e-01\n",
      " 8.57495268e-01 8.34136832e-01 2.93997945e-01 6.06346599e-01\n",
      " 6.07708368e-01 2.71349291e-01 8.86541857e-01 9.34489440e-01\n",
      " 6.38322093e-02 3.02986464e-02 2.86231378e-01 7.07242400e-01\n",
      " 9.10479131e-01 6.41901970e-04 3.53616060e-01 3.89151917e-01\n",
      " 3.86196294e-01 6.40006799e-01 2.17566693e-01 1.20127770e-01\n",
      " 9.23519832e-01 9.15674436e-01 9.81674024e-01 9.84332510e-01\n",
      " 3.42806199e-01 9.36069745e-01 9.77179058e-01 7.36096012e-01\n",
      " 4.90354448e-01 2.86185149e-02 4.68719754e-01 5.08033016e-01\n",
      " 1.89500761e-01 5.69040246e-01 2.06527387e-02 6.47795648e-01\n",
      " 3.14589520e-01 7.63028444e-01 4.82800463e-01 5.70164785e-01\n",
      " 5.69102178e-01 9.11441633e-01 5.11420160e-01 5.82218490e-01]\n"
     ]
    }
   ],
   "source": [
    "random_table = np.random.uniform(size = 100)\n",
    "print(random_table)"
   ]
  },
  {
   "cell_type": "code",
   "execution_count": 7,
   "id": "b8ebaa3d",
   "metadata": {},
   "outputs": [
    {
     "data": {
      "text/plain": [
       "[array([0., 1., 2.]), array([3., 4., 5.]), array([6., 7.])]"
      ]
     },
     "execution_count": 7,
     "metadata": {},
     "output_type": "execute_result"
    }
   ],
   "source": [
    "x = np.arange(8.0)\n",
    "np.array_split(x, 3)"
   ]
  },
  {
   "cell_type": "code",
   "execution_count": 8,
   "id": "c1a1c013",
   "metadata": {
    "scrolled": false
   },
   "outputs": [
    {
     "data": {
      "text/plain": [
       "(array([[ 0,  0],\n",
       "        [ 1,  0],\n",
       "        [ 2,  0],\n",
       "        [ 3,  0],\n",
       "        [ 4,  0],\n",
       "        [ 5,  0],\n",
       "        [ 6,  0],\n",
       "        [ 7,  0],\n",
       "        [ 8,  0],\n",
       "        [ 9,  0],\n",
       "        [10,  0],\n",
       "        [11,  0],\n",
       "        [12,  0],\n",
       "        [13,  0],\n",
       "        [14,  0],\n",
       "        [15,  0],\n",
       "        [16,  0],\n",
       "        [17,  0],\n",
       "        [18,  0],\n",
       "        [19,  0],\n",
       "        [60,  0],\n",
       "        [61,  0],\n",
       "        [62,  0],\n",
       "        [63,  0],\n",
       "        [64,  0],\n",
       "        [65,  0],\n",
       "        [66,  0],\n",
       "        [67,  0],\n",
       "        [68,  0],\n",
       "        [69,  0],\n",
       "        [70,  0],\n",
       "        [71,  0],\n",
       "        [72,  0],\n",
       "        [73,  0],\n",
       "        [74,  0],\n",
       "        [75,  0],\n",
       "        [76,  0],\n",
       "        [77,  1],\n",
       "        [78,  0],\n",
       "        [79,  0]], dtype=int64),\n",
       " array([[20,  0],\n",
       "        [21,  0],\n",
       "        [22,  0],\n",
       "        [23,  0],\n",
       "        [24,  0],\n",
       "        [25,  0],\n",
       "        [26,  0],\n",
       "        [27,  0],\n",
       "        [28,  1],\n",
       "        [29,  0],\n",
       "        [30,  0],\n",
       "        [31,  0],\n",
       "        [32,  0],\n",
       "        [33,  0],\n",
       "        [34,  0],\n",
       "        [35,  0],\n",
       "        [36,  0],\n",
       "        [37,  0],\n",
       "        [38,  0],\n",
       "        [39,  0],\n",
       "        [40,  0],\n",
       "        [41,  0],\n",
       "        [42,  0],\n",
       "        [43,  1],\n",
       "        [44,  0],\n",
       "        [45,  0],\n",
       "        [46,  0],\n",
       "        [47,  0],\n",
       "        [48,  1],\n",
       "        [49,  0],\n",
       "        [50,  0],\n",
       "        [51,  0],\n",
       "        [52,  0],\n",
       "        [53,  0],\n",
       "        [54,  0],\n",
       "        [55,  1],\n",
       "        [56,  0],\n",
       "        [57,  0],\n",
       "        [58,  0],\n",
       "        [59,  1],\n",
       "        [80,  1],\n",
       "        [81,  0],\n",
       "        [82,  0],\n",
       "        [83,  0],\n",
       "        [84,  0],\n",
       "        [85,  0],\n",
       "        [86,  0],\n",
       "        [87,  0],\n",
       "        [88,  0],\n",
       "        [89,  0],\n",
       "        [90,  0],\n",
       "        [91,  0],\n",
       "        [92,  0],\n",
       "        [93,  0],\n",
       "        [94,  0],\n",
       "        [95,  0],\n",
       "        [96,  0],\n",
       "        [97,  0],\n",
       "        [98,  0],\n",
       "        [99,  1]], dtype=int64),\n",
       " 10.0)"
      ]
     },
     "execution_count": 8,
     "metadata": {},
     "output_type": "execute_result"
    }
   ],
   "source": [
    "subject_array = BTK.setupPopulation(populationSize=100, p=0.1)\n",
    "BTK.batchSplit(subject_array,10, Constants)"
   ]
  },
  {
   "cell_type": "code",
   "execution_count": 9,
   "id": "96efdc67",
   "metadata": {
    "scrolled": false
   },
   "outputs": [
    {
     "name": "stdout",
     "output_type": "stream",
     "text": [
      "[[ 0  0]\n",
      " [ 1  0]\n",
      " [ 2  0]\n",
      " [ 3  0]\n",
      " [ 4  0]\n",
      " [ 5  0]\n",
      " [12  0]\n",
      " [13  0]\n",
      " [14  0]\n",
      " [15  0]\n",
      " [16  0]\n",
      " [17  0]\n",
      " [18  0]\n",
      " [19  0]\n",
      " [20  0]\n",
      " [21  0]\n",
      " [22  0]\n",
      " [ 6  0]\n",
      " [ 7  0]\n",
      " [ 8  0]\n",
      " [ 9  0]\n",
      " [10  0]\n",
      " [11  0]\n",
      " [23  0]\n",
      " [24  0]\n",
      " [25  0]\n",
      " [26  0]\n",
      " [31  0]\n",
      " [32  0]\n",
      " [33  0]\n",
      " [34  0]\n",
      " [35  0]\n",
      " [36  0]\n",
      " [37  0]\n",
      " [38  0]\n",
      " [39  0]\n",
      " [40  0]\n",
      " [56  0]\n",
      " [57  0]\n",
      " [58  0]\n",
      " [63  0]\n",
      " [64  0]\n",
      " [65  0]\n",
      " [66  0]\n",
      " [67  0]\n",
      " [68  0]\n",
      " [69  0]\n",
      " [70  0]\n",
      " [71  0]\n",
      " [72  0]\n",
      " [73  0]\n",
      " [74  0]\n",
      " [83  0]\n",
      " [84  0]\n",
      " [85  0]\n",
      " [86  0]\n",
      " [87  0]\n",
      " [88  0]\n",
      " [89  0]\n",
      " [90  0]\n",
      " [91  0]\n",
      " [92  0]\n",
      " [93  0]\n",
      " [41  0]\n",
      " [42  0]\n",
      " [51  0]\n",
      " [52  0]\n",
      " [53  0]\n",
      " [54  0]\n",
      " [55  1]\n",
      " [94  0]\n",
      " [95  0]\n",
      " [96  0]\n",
      " [45  0]\n",
      " [46  0]\n",
      " [47  0]\n",
      " [62  0]\n",
      " [75  0]\n",
      " [76  0]]\n"
     ]
    },
    {
     "name": "stderr",
     "output_type": "stream",
     "text": [
      "c:\\users\\nehem\\appdata\\local\\programs\\python\\python39\\lib\\site-packages\\scipy\\optimize\\minpack.py:175: RuntimeWarning: The iteration is not making good progress, as measured by the \n",
      "  improvement from the last ten iterations.\n",
      "  warnings.warn(msg, RuntimeWarning)\n"
     ]
    }
   ],
   "source": [
    "BTK.sequentialTesting(subject_array, 3, 0.1, batchSize, Constants)"
   ]
  }
 ],
 "metadata": {
  "kernelspec": {
   "display_name": "Python 3 (ipykernel)",
   "language": "python",
   "name": "python3"
  },
  "language_info": {
   "codemirror_mode": {
    "name": "ipython",
    "version": 3
   },
   "file_extension": ".py",
   "mimetype": "text/x-python",
   "name": "python",
   "nbconvert_exporter": "python",
   "pygments_lexer": "ipython3",
   "version": "3.9.5"
  }
 },
 "nbformat": 4,
 "nbformat_minor": 5
}
