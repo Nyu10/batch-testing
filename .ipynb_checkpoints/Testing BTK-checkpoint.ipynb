{
 "cells": [
  {
   "cell_type": "markdown",
   "id": "e4503e29",
   "metadata": {},
   "source": [
    "100 Repetitions\n",
    "Population: 100,000\n",
    "Sensitivity: = 0.85\n",
    "Specificity = 0.99\n",
    "Stop Rule = 3\n",
    "Sequential Testing = 3 times\n"
   ]
  },
  {
   "cell_type": "markdown",
   "id": "5478559e",
   "metadata": {},
   "source": [
    "Accuracy\n",
    "Sensitivity\n",
    "Specificity\n",
    "number of batch testings\n",
    "number of total testings"
   ]
  },
  {
   "cell_type": "code",
   "execution_count": 1,
   "id": "48467d2f",
   "metadata": {},
   "outputs": [],
   "source": [
    "import Nehemiah_Batch_Testing as BTK #BTK is batch testing kit\n",
    "import numpy as np"
   ]
  },
  {
   "cell_type": "code",
   "execution_count": 2,
   "id": "1627bc85",
   "metadata": {},
   "outputs": [
    {
     "data": {
      "text/plain": [
       "0.01"
      ]
     },
     "execution_count": 2,
     "metadata": {},
     "output_type": "execute_result"
    }
   ],
   "source": [
    "Constants = BTK.setupConstants(typeIIError = 0.15, typeIError = 0.01, batchLimit = 32)\n",
    "Constants.typeIError"
   ]
  },
  {
   "cell_type": "code",
   "execution_count": 3,
   "id": "6a11cc94",
   "metadata": {},
   "outputs": [
    {
     "name": "stdout",
     "output_type": "stream",
     "text": [
      "12\n",
      "[{'data': array([[ 0,  0],\n",
      "       [ 1,  0],\n",
      "       [ 2,  0],\n",
      "       [ 3,  1],\n",
      "       [ 4,  0],\n",
      "       [ 5,  0],\n",
      "       [ 6,  0],\n",
      "       [ 7,  0],\n",
      "       [ 8,  0],\n",
      "       [ 9,  0],\n",
      "       [10,  0],\n",
      "       [11,  0],\n",
      "       [12,  0],\n",
      "       [13,  0],\n",
      "       [14,  0],\n",
      "       [15,  0],\n",
      "       [16,  0],\n",
      "       [17,  0],\n",
      "       [18,  0],\n",
      "       [19,  0],\n",
      "       [20,  1],\n",
      "       [21,  0],\n",
      "       [22,  0],\n",
      "       [23,  0],\n",
      "       [24,  0],\n",
      "       [25,  0],\n",
      "       [26,  0],\n",
      "       [27,  0],\n",
      "       [28,  0],\n",
      "       [29,  0],\n",
      "       [30,  0],\n",
      "       [31,  0],\n",
      "       [32,  0],\n",
      "       [33,  0],\n",
      "       [34,  0],\n",
      "       [35,  0],\n",
      "       [36,  0],\n",
      "       [37,  0],\n",
      "       [38,  0],\n",
      "       [39,  0],\n",
      "       [40,  0],\n",
      "       [41,  0],\n",
      "       [42,  0],\n",
      "       [43,  0],\n",
      "       [44,  0],\n",
      "       [45,  0],\n",
      "       [46,  0],\n",
      "       [47,  0],\n",
      "       [48,  0],\n",
      "       [49,  0],\n",
      "       [50,  1],\n",
      "       [51,  1],\n",
      "       [52,  0],\n",
      "       [53,  0],\n",
      "       [54,  0],\n",
      "       [55,  0],\n",
      "       [56,  0],\n",
      "       [57,  0],\n",
      "       [58,  0],\n",
      "       [59,  0],\n",
      "       [60,  0],\n",
      "       [61,  0],\n",
      "       [62,  0],\n",
      "       [63,  0],\n",
      "       [64,  0],\n",
      "       [65,  0],\n",
      "       [66,  0],\n",
      "       [67,  1],\n",
      "       [68,  0],\n",
      "       [69,  0],\n",
      "       [70,  0],\n",
      "       [71,  0],\n",
      "       [72,  0],\n",
      "       [73,  0],\n",
      "       [74,  0],\n",
      "       [75,  0],\n",
      "       [76,  0],\n",
      "       [77,  0],\n",
      "       [78,  0],\n",
      "       [79,  0],\n",
      "       [80,  0],\n",
      "       [81,  0],\n",
      "       [82,  0],\n",
      "       [83,  0],\n",
      "       [84,  0],\n",
      "       [85,  0],\n",
      "       [86,  0],\n",
      "       [87,  0],\n",
      "       [88,  0],\n",
      "       [89,  0],\n",
      "       [90,  0],\n",
      "       [91,  0],\n",
      "       [92,  0],\n",
      "       [93,  0],\n",
      "       [94,  0],\n",
      "       [95,  0],\n",
      "       [96,  0],\n",
      "       [97,  0],\n",
      "       [98,  0],\n",
      "       [99,  0]], dtype=int64), 'NB_Num': 0, 'PB_Num': 0, 'p': 0.1, 'batch_size': 10}]\n"
     ]
    }
   ],
   "source": [
    "#print(BTK.optimalBatchSize(0.01, Constants))\n",
    "temp_list = []\n",
    "subject_array = BTK.setupPopulation(populationSize=100, p=0.1)\n",
    "batch_size = 10\n",
    "temp = {'data': subject_array,\n",
    "        'NB_Num': 0,\n",
    "        'PB_Num': 0,\n",
    "        'p': 0.1,\n",
    "        'batch_size': batch_size}\n",
    "temp_list.append(temp)\n",
    "#print(temp_list)\n"
   ]
  },
  {
   "cell_type": "code",
   "execution_count": 4,
   "id": "9f3d8d36",
   "metadata": {},
   "outputs": [
    {
     "data": {
      "text/plain": [
       "0.001976327594960294"
      ]
     },
     "execution_count": 4,
     "metadata": {},
     "output_type": "execute_result"
    }
   ],
   "source": [
    "BTK.infectionRateNegativeBatch(p = 0.01, batchSize=32,Constants=Constants)"
   ]
  },
  {
   "cell_type": "code",
   "execution_count": 5,
   "id": "f172350b",
   "metadata": {},
   "outputs": [],
   "source": [
    "batchSize = BTK.optimalBatchSize(p = 0.01, Constants = Constants)"
   ]
  },
  {
   "cell_type": "code",
   "execution_count": 6,
   "id": "f99a98c8",
   "metadata": {},
   "outputs": [
    {
     "name": "stdout",
     "output_type": "stream",
     "text": [
      "[6.39197009e-01 4.21940836e-01 9.16227271e-01 6.32753823e-01\n",
      " 8.12380865e-01 3.42217778e-01 4.46765460e-01 6.93208673e-01\n",
      " 8.79930874e-01 9.19520461e-01 8.42731312e-01 3.51969918e-01\n",
      " 7.57123214e-01 7.02272238e-01 8.43840706e-01 1.52944753e-01\n",
      " 4.04383123e-01 1.44060919e-01 5.72713620e-01 2.90136389e-02\n",
      " 6.23610255e-01 4.78928783e-01 9.00612097e-01 5.92768894e-01\n",
      " 1.40051070e-01 2.82995442e-01 3.93612422e-01 5.71676652e-01\n",
      " 5.21447080e-01 3.65790822e-01 4.11565541e-01 1.87634663e-01\n",
      " 2.34078880e-01 2.27130144e-03 6.29396357e-01 8.74672757e-01\n",
      " 3.12309924e-01 3.36952529e-01 6.43820926e-04 3.93087858e-02\n",
      " 6.01993966e-01 1.48701347e-02 6.70956813e-02 4.06023201e-01\n",
      " 5.32081662e-01 4.76312135e-01 7.46662639e-01 6.18738996e-01\n",
      " 8.65668665e-01 5.61642911e-01 1.36611522e-02 6.76593899e-02\n",
      " 7.13475502e-01 5.61306379e-01 3.54722812e-01 7.14619616e-01\n",
      " 1.47249243e-01 6.05974787e-01 7.24958619e-01 2.94705873e-01\n",
      " 1.33687475e-01 2.34602593e-01 1.88606358e-01 1.41375366e-01\n",
      " 5.57878738e-01 6.46936702e-01 5.66868543e-01 4.71502753e-01\n",
      " 5.47006430e-01 3.73160670e-01 5.21117992e-01 3.11243610e-01\n",
      " 9.94453439e-01 9.70895559e-01 7.15486258e-01 6.31471068e-01\n",
      " 5.71947685e-01 1.95351023e-01 5.68163777e-01 2.10047799e-01\n",
      " 6.96405253e-01 1.65639937e-01 1.36393297e-01 7.08556642e-01\n",
      " 4.80752610e-01 8.33056401e-01 6.44660219e-01 2.06394951e-01\n",
      " 5.59287852e-01 2.96821137e-01 3.71338281e-01 8.26884000e-01\n",
      " 2.41533676e-01 7.05514692e-01 6.24168542e-01 1.86125182e-01\n",
      " 1.23992463e-01 2.43459130e-02 6.55471465e-01 6.05811533e-01]\n"
     ]
    }
   ],
   "source": [
    "random_table = np.random.uniform(size = 100)\n",
    "print(random_table)"
   ]
  },
  {
   "cell_type": "code",
   "execution_count": 7,
   "id": "b8ebaa3d",
   "metadata": {},
   "outputs": [
    {
     "data": {
      "text/plain": [
       "[array([0., 1., 2.]), array([3., 4., 5.]), array([6., 7.])]"
      ]
     },
     "execution_count": 7,
     "metadata": {},
     "output_type": "execute_result"
    }
   ],
   "source": [
    "x = np.arange(8.0)\n",
    "np.array_split(x, 3)"
   ]
  },
  {
   "cell_type": "code",
   "execution_count": 8,
   "id": "c1a1c013",
   "metadata": {
    "scrolled": false
   },
   "outputs": [
    {
     "data": {
      "text/plain": [
       "(array([[10,  0],\n",
       "        [11,  1],\n",
       "        [12,  0],\n",
       "        [13,  0],\n",
       "        [14,  0],\n",
       "        [15,  0],\n",
       "        [16,  0],\n",
       "        [17,  0],\n",
       "        [18,  1],\n",
       "        [19,  0],\n",
       "        [20,  0],\n",
       "        [21,  0],\n",
       "        [22,  0],\n",
       "        [23,  0],\n",
       "        [24,  0],\n",
       "        [25,  0],\n",
       "        [26,  0],\n",
       "        [27,  0],\n",
       "        [28,  0],\n",
       "        [29,  0],\n",
       "        [40,  0],\n",
       "        [41,  0],\n",
       "        [42,  0],\n",
       "        [43,  0],\n",
       "        [44,  0],\n",
       "        [45,  0],\n",
       "        [46,  0],\n",
       "        [47,  0],\n",
       "        [48,  0],\n",
       "        [49,  0],\n",
       "        [60,  0],\n",
       "        [61,  0],\n",
       "        [62,  0],\n",
       "        [63,  0],\n",
       "        [64,  0],\n",
       "        [65,  0],\n",
       "        [66,  0],\n",
       "        [67,  0],\n",
       "        [68,  0],\n",
       "        [69,  0],\n",
       "        [90,  0],\n",
       "        [91,  0],\n",
       "        [92,  0],\n",
       "        [93,  0],\n",
       "        [94,  0],\n",
       "        [95,  0],\n",
       "        [96,  0],\n",
       "        [97,  0],\n",
       "        [98,  0],\n",
       "        [99,  0]], dtype=int64),\n",
       " array([[ 0,  1],\n",
       "        [ 1,  0],\n",
       "        [ 2,  0],\n",
       "        [ 3,  0],\n",
       "        [ 4,  0],\n",
       "        [ 5,  0],\n",
       "        [ 6,  0],\n",
       "        [ 7,  0],\n",
       "        [ 8,  0],\n",
       "        [ 9,  0],\n",
       "        [30,  0],\n",
       "        [31,  0],\n",
       "        [32,  1],\n",
       "        [33,  0],\n",
       "        [34,  1],\n",
       "        [35,  0],\n",
       "        [36,  0],\n",
       "        [37,  0],\n",
       "        [38,  1],\n",
       "        [39,  0],\n",
       "        [50,  0],\n",
       "        [51,  0],\n",
       "        [52,  0],\n",
       "        [53,  0],\n",
       "        [54,  0],\n",
       "        [55,  1],\n",
       "        [56,  0],\n",
       "        [57,  0],\n",
       "        [58,  0],\n",
       "        [59,  0],\n",
       "        [70,  0],\n",
       "        [71,  0],\n",
       "        [72,  0],\n",
       "        [73,  0],\n",
       "        [74,  0],\n",
       "        [75,  0],\n",
       "        [76,  1],\n",
       "        [77,  0],\n",
       "        [78,  0],\n",
       "        [79,  0],\n",
       "        [80,  0],\n",
       "        [81,  0],\n",
       "        [82,  0],\n",
       "        [83,  0],\n",
       "        [84,  0],\n",
       "        [85,  1],\n",
       "        [86,  0],\n",
       "        [87,  0],\n",
       "        [88,  0],\n",
       "        [89,  0]], dtype=int64),\n",
       " 10.0)"
      ]
     },
     "execution_count": 8,
     "metadata": {},
     "output_type": "execute_result"
    }
   ],
   "source": [
    "subject_array = BTK.setupPopulation(populationSize=100, p=0.1)\n",
    "BTK.batchSplit(subject_array,10, Constants)"
   ]
  },
  {
   "cell_type": "code",
   "execution_count": 9,
   "id": "96efdc67",
   "metadata": {
    "scrolled": false
   },
   "outputs": [
    {
     "name": "stdout",
     "output_type": "stream",
     "text": [
      "[[ 0  1]\n",
      " [ 1  0]\n",
      " [ 2  0]\n",
      " [ 3  0]\n",
      " [ 4  0]\n",
      " [ 5  0]\n",
      " [ 6  0]\n",
      " [ 7  0]\n",
      " [ 8  0]\n",
      " [ 9  0]\n",
      " [10  0]\n",
      " [11  1]\n",
      " [12  0]\n",
      " [13  0]\n",
      " [14  0]\n",
      " [15  0]\n",
      " [16  0]\n",
      " [17  0]\n",
      " [18  1]\n",
      " [19  0]\n",
      " [20  0]\n",
      " [21  0]\n",
      " [22  0]\n",
      " [23  0]\n",
      " [24  0]\n",
      " [25  0]\n",
      " [26  0]\n",
      " [27  0]\n",
      " [28  0]\n",
      " [29  0]\n",
      " [30  0]\n",
      " [31  0]\n",
      " [32  1]\n",
      " [33  0]\n",
      " [34  0]\n",
      " [35  0]\n",
      " [36  1]\n",
      " [37  0]\n",
      " [38  1]\n",
      " [39  0]\n",
      " [40  0]\n",
      " [41  0]\n",
      " [42  0]\n",
      " [43  0]\n",
      " [44  0]\n",
      " [45  0]\n",
      " [46  0]\n",
      " [47  0]\n",
      " [48  0]\n",
      " [49  0]\n",
      " [50  0]\n",
      " [51  0]\n",
      " [52  0]\n",
      " [53  0]\n",
      " [54  0]\n",
      " [55  1]\n",
      " [56  0]\n",
      " [57  0]\n",
      " [58  0]\n",
      " [59  0]\n",
      " [60  0]\n",
      " [61  0]\n",
      " [62  0]\n",
      " [63  0]\n",
      " [64  0]\n",
      " [65  0]\n",
      " [66  0]\n",
      " [67  0]\n",
      " [68  0]\n",
      " [69  0]\n",
      " [70  0]\n",
      " [71  0]\n",
      " [72  0]\n",
      " [73  0]\n",
      " [74  0]\n",
      " [75  0]\n",
      " [76  1]\n",
      " [77  0]\n",
      " [78  0]\n",
      " [79  0]\n",
      " [80  0]\n",
      " [81  0]\n",
      " [82  0]\n",
      " [83  0]\n",
      " [84  0]\n",
      " [85  1]\n",
      " [86  0]\n",
      " [87  0]\n",
      " [88  0]\n",
      " [89  0]\n",
      " [90  0]\n",
      " [91  0]\n",
      " [92  0]\n",
      " [93  0]\n",
      " [94  0]\n",
      " [95  0]\n",
      " [96  0]\n",
      " [97  0]\n",
      " [98  0]\n",
      " [99  0]]\n"
     ]
    },
    {
     "name": "stderr",
     "output_type": "stream",
     "text": [
      "c:\\users\\nehem\\appdata\\local\\programs\\python\\python39\\lib\\site-packages\\scipy\\optimize\\minpack.py:175: RuntimeWarning: The iteration is not making good progress, as measured by the \n",
      "  improvement from the last ten iterations.\n",
      "  warnings.warn(msg, RuntimeWarning)\n",
      "c:\\users\\nehem\\appdata\\local\\programs\\python\\python39\\lib\\site-packages\\scipy\\optimize\\minpack.py:175: RuntimeWarning: The iteration is not making good progress, as measured by the \n",
      "  improvement from the last five Jacobian evaluations.\n",
      "  warnings.warn(msg, RuntimeWarning)\n"
     ]
    }
   ],
   "source": [
    "BTK.sequentialTesting(subject_array, 3, 0.1, batchSize, Constants)"
   ]
  },
  {
   "cell_type": "code",
   "execution_count": null,
   "id": "6c6a20d6",
   "metadata": {},
   "outputs": [],
   "source": []
  }
 ],
 "metadata": {
  "kernelspec": {
   "display_name": "Python 3 (ipykernel)",
   "language": "python",
   "name": "python3"
  },
  "language_info": {
   "codemirror_mode": {
    "name": "ipython",
    "version": 3
   },
   "file_extension": ".py",
   "mimetype": "text/x-python",
   "name": "python",
   "nbconvert_exporter": "python",
   "pygments_lexer": "ipython3",
   "version": "3.9.5"
  }
 },
 "nbformat": 4,
 "nbformat_minor": 5
}
