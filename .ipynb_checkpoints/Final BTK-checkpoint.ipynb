{
 "cells": [
  {
   "cell_type": "markdown",
   "id": "e4503e29",
   "metadata": {},
   "source": [
    "100 Repetitions\n",
    "Population: 100,000\n",
    "Sensitivity: = 0.85\n",
    "Specificity = 0.99\n",
    "Stop Rule = 3\n",
    "Sequential Testing = 3 times\n"
   ]
  },
  {
   "cell_type": "markdown",
   "id": "5478559e",
   "metadata": {},
   "source": [
    "Accuracy\n",
    "Sensitivity\n",
    "Specificity\n",
    "number of batch testings\n",
    "number of total testings"
   ]
  },
  {
   "cell_type": "code",
   "execution_count": 1,
   "id": "48467d2f",
   "metadata": {},
   "outputs": [],
   "source": [
    "import Nehemiah_Batch_Testing as BTK #BTK is batch testing kit\n",
    "import numpy as np"
   ]
  },
  {
   "cell_type": "code",
   "execution_count": 6,
   "id": "1627bc85",
   "metadata": {},
   "outputs": [
    {
     "name": "stdout",
     "output_type": "stream",
     "text": [
      "[[    0     0]\n",
      " [    1     0]\n",
      " [    2     0]\n",
      " ...\n",
      " [99997     0]\n",
      " [99998     0]\n",
      " [99999     1]]\n",
      "29289.0\n",
      "8332\n"
     ]
    }
   ],
   "source": [
    "Constants = BTK.setupConstants(typeIIError = 0.15, typeIError = 0.01, batchLimit = 32)\n",
    "populationArray = BTK.setupPopulation(100000, 0.01)\n",
    "batchSize = BTK.optimalBatchSize(0.01, Constants)\n",
    "testResults, totalTestConsumption, individualTestConsumption = BTK.sequentialTesting(populationArray, 3, 0.01, batchSize, Constants, 3, 1, True)\n",
    "print(testResults)\n",
    "print(totalTestConsumption)\n",
    "print(individualTestConsumption)"
   ]
  },
  {
   "cell_type": "code",
   "execution_count": null,
   "id": "e2319954",
   "metadata": {},
   "outputs": [],
   "source": []
  }
 ],
 "metadata": {
  "kernelspec": {
   "display_name": "Python 3 (ipykernel)",
   "language": "python",
   "name": "python3"
  },
  "language_info": {
   "codemirror_mode": {
    "name": "ipython",
    "version": 3
   },
   "file_extension": ".py",
   "mimetype": "text/x-python",
   "name": "python",
   "nbconvert_exporter": "python",
   "pygments_lexer": "ipython3",
   "version": "3.9.5"
  }
 },
 "nbformat": 4,
 "nbformat_minor": 5
}
